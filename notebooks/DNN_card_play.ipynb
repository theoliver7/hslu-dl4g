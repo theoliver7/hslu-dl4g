{
 "cells": [
  {
   "cell_type": "markdown",
   "metadata": {
    "pycharm": {
     "name": "#%% md\n"
    }
   },
   "source": [
    "# Notebook to train a DNN for card play\n",
    "\n",
    "### Libraries\n",
    "\n",
    "We use the keras library for building, training and evaluating the network. A tutorial for keras can be found on (https://keras.io/) or https://www.tensorflow.org/guide/keras. There are different implementations of keras, here I will use the one build on tensorflow.\n"
   ]
  },
  {
   "cell_type": "code",
   "execution_count": 30,
   "outputs": [],
   "source": [
    "import numpy as np\n",
    "import pandas as pd\n",
    "import tensorflow as tf\n",
    "from tensorflow import keras\n",
    "from matplotlib import pyplot as plt"
   ],
   "metadata": {
    "collapsed": false,
    "pycharm": {
     "name": "#%%\n"
    }
   }
  },
  {
   "cell_type": "markdown",
   "source": [
    "Create dataframe with all the better than average player"
   ],
   "metadata": {
    "collapsed": false
   }
  },
  {
   "cell_type": "code",
   "execution_count": 31,
   "outputs": [
    {
     "data": {
      "text/plain": "         id        mean        std  nr\n4563  30505  140.000000   0.000000   1\n4476  78140  117.200000  39.448701   5\n4540  50172  116.666667  35.803166   6\n4485   9797  115.857143  35.324347   7\n2988  51264  115.000000  35.853870   5",
      "text/html": "<div>\n<style scoped>\n    .dataframe tbody tr th:only-of-type {\n        vertical-align: middle;\n    }\n\n    .dataframe tbody tr th {\n        vertical-align: top;\n    }\n\n    .dataframe thead th {\n        text-align: right;\n    }\n</style>\n<table border=\"1\" class=\"dataframe\">\n  <thead>\n    <tr style=\"text-align: right;\">\n      <th></th>\n      <th>id</th>\n      <th>mean</th>\n      <th>std</th>\n      <th>nr</th>\n    </tr>\n  </thead>\n  <tbody>\n    <tr>\n      <th>4563</th>\n      <td>30505</td>\n      <td>140.000000</td>\n      <td>0.000000</td>\n      <td>1</td>\n    </tr>\n    <tr>\n      <th>4476</th>\n      <td>78140</td>\n      <td>117.200000</td>\n      <td>39.448701</td>\n      <td>5</td>\n    </tr>\n    <tr>\n      <th>4540</th>\n      <td>50172</td>\n      <td>116.666667</td>\n      <td>35.803166</td>\n      <td>6</td>\n    </tr>\n    <tr>\n      <th>4485</th>\n      <td>9797</td>\n      <td>115.857143</td>\n      <td>35.324347</td>\n      <td>7</td>\n    </tr>\n    <tr>\n      <th>2988</th>\n      <td>51264</td>\n      <td>115.000000</td>\n      <td>35.853870</td>\n      <td>5</td>\n    </tr>\n  </tbody>\n</table>\n</div>"
     },
     "execution_count": 31,
     "metadata": {},
     "output_type": "execute_result"
    }
   ],
   "source": [
    "df_stat = pd.read_json(\"data/stat/player_all_stat.json\")\n",
    "df_stat = df_stat.sort_values(by='mean', ascending=False)\n",
    "mean = df_stat['mean'].mean()\n",
    "df_stat = df_stat.drop(df_stat[df_stat['mean'] < mean+15].index)\n",
    "df_stat.head()"
   ],
   "metadata": {
    "collapsed": false,
    "pycharm": {
     "name": "#%%\n"
    }
   }
  },
  {
   "cell_type": "code",
   "execution_count": 32,
   "outputs": [
    {
     "name": "stdout",
     "output_type": "stream",
     "text": [
      "['DA' 'DK' 'DQ' 'DJ' 'D10' 'D9' 'D8' 'D7' 'D6' 'HA' 'HK' 'HQ' 'HJ' 'H10'\n",
      " 'H9' 'H8' 'H7' 'H6' 'SA' 'SK' 'SQ' 'SJ' 'S10' 'S9' 'S8' 'S7' 'S6' 'CA'\n",
      " 'CK' 'CQ' 'CJ' 'C10' 'C9' 'C8' 'C7' 'C6' 'FH' 'trump']\n"
     ]
    }
   ],
   "source": [
    "cards = [\n",
    "    # Diamonds\n",
    "    'DA', 'DK', 'DQ', 'DJ', 'D10', 'D9', 'D8', 'D7', 'D6',\n",
    "    # Hearts\n",
    "    'HA', 'HK', 'HQ', 'HJ', 'H10', 'H9', 'H8', 'H7', 'H6',\n",
    "    # Spades\n",
    "    'SA', 'SK', 'SQ', 'SJ', 'S10', 'S9', 'S8', 'S7', 'S6',\n",
    "    # Clubs\n",
    "    'CA', 'CK', 'CQ', 'CJ', 'C10', 'C9', 'C8', 'C7', 'C6'\n",
    "]\n",
    "\n",
    "forehand = ['FH']\n",
    "\n",
    "user = ['user']\n",
    "trump = ['trump']\n",
    "cols = np.concatenate([cards,forehand,trump])\n",
    "print(cols)\n",
    "df = pd.DataFrame(columns=cols)"
   ],
   "metadata": {
    "collapsed": false,
    "pycharm": {
     "name": "#%%\n"
    }
   }
  },
  {
   "cell_type": "code",
   "execution_count": 33,
   "outputs": [],
   "source": [
    "# import os\n",
    "# from jass.logs.game_obs_action_log_entry import GameObsActionLogEntry\n",
    "# import json\n",
    "#\n",
    "# for file in os.listdir('C:/dev/git/dl4g/notebooks/data/games/trump'):\n",
    "#     with open(\"C:/dev/git/dl4g/notebooks/data/games/trump/\"+file, \"r\") as file:\n",
    "#         lines = file.readlines()\n",
    "#\n",
    "#         for line in lines:\n",
    "#             line = json.loads(line.strip())\n",
    "#             obs_log = GameObsActionLogEntry.from_json(line)\n",
    "#\n",
    "#             if obs_log.player_id in df_stat[\"id\"]:\n",
    "#                 row = np.concatenate([obs_log.obs.hand,[obs_log.obs.forehand],[obs_log.action]])\n",
    "#                 df.loc[len(df.index)] =row\n",
    "#\n",
    "#\n",
    "#\n",
    "# df.head()"
   ],
   "metadata": {
    "collapsed": false,
    "pycharm": {
     "name": "#%%\n"
    }
   }
  },
  {
   "cell_type": "code",
   "execution_count": 37,
   "outputs": [
    {
     "name": "stdout",
     "output_type": "stream",
     "text": [
      "(549401, 39)\n",
      "10    207482\n",
      "5      66221\n",
      "2      61294\n",
      "3      61157\n",
      "4      54032\n",
      "1      50315\n",
      "0      48900\n",
      "Name: trump, dtype: int64\n"
     ]
    }
   ],
   "source": [
    "#df.to_pickle(\"trump_df.pkl\") #read with\n",
    "df = pd.read_pickle(\"trump_df22.pkl\")\n",
    "print(df.shape)\n",
    "print(df['trump'].value_counts())"
   ],
   "metadata": {
    "collapsed": false,
    "pycharm": {
     "name": "#%%\n"
    }
   }
  },
  {
   "cell_type": "code",
   "execution_count": 39,
   "outputs": [
    {
     "name": "stdout",
     "output_type": "stream",
     "text": [
      "10    207482\n",
      "5      66221\n",
      "2      61294\n",
      "3      61157\n",
      "4      54032\n",
      "1      50315\n",
      "0      48900\n",
      "Name: trump, dtype: int64\n",
      "10    206412\n",
      "5      65765\n",
      "2      60982\n",
      "3      60787\n",
      "4      53610\n",
      "1      50077\n",
      "0      48655\n",
      "Name: trump, dtype: int64\n"
     ]
    }
   ],
   "source": [
    "print(df['trump'].value_counts())\n",
    "df = df[~df.id.isin(df_stat.id.index)]\n",
    "print(df['trump'].value_counts())"
   ],
   "metadata": {
    "collapsed": false,
    "pycharm": {
     "name": "#%%\n"
    }
   }
  },
  {
   "cell_type": "code",
   "execution_count": 40,
   "outputs": [
    {
     "name": "stdout",
     "output_type": "stream",
     "text": [
      "  DA DK DQ DJ D10 D9 D8 D7 D6 HA  ... CQ CJ C10 C9 C8 C7 C6  FH trump   id\n",
      "0  0  0  0  1   0  0  0  1  0  0  ...  0  0   0  0  0  1  0   0     5    0\n",
      "1  0  0  0  0   0  0  0  0  1  1  ...  0  1   1  0  1  0  0  -1     3    0\n",
      "2  0  0  1  0   0  0  1  0  0  0  ...  0  0   0  0  0  0  0   0     5  694\n",
      "3  0  0  1  0   0  0  0  0  1  0  ...  0  0   1  0  1  0  0   0     2    0\n",
      "4  0  1  0  0   1  0  0  0  0  0  ...  0  0   0  0  0  0  1  -1    10    0\n",
      "\n",
      "[5 rows x 39 columns]\n",
      "10    66412\n",
      "5     65765\n",
      "2     60982\n",
      "3     60787\n",
      "4     53610\n",
      "1     50077\n",
      "0     48655\n",
      "Name: trump, dtype: int64\n"
     ]
    }
   ],
   "source": [
    "df = df.sort_values(by='trump')\n",
    "df\n",
    "df.drop(df.tail(140_000).index, inplace = True)\n",
    "df = df.sample(frac=1).reset_index(drop=True)\n",
    "print(df.head())\n",
    "print(df['trump'].value_counts())"
   ],
   "metadata": {
    "collapsed": false,
    "pycharm": {
     "name": "#%%\n"
    }
   }
  },
  {
   "cell_type": "code",
   "execution_count": 41,
   "outputs": [
    {
     "name": "stdout",
     "output_type": "stream",
     "text": [
      "[5, 3, 2, 6, 1, 4, 0]\n",
      "Categories (7, int64): [0, 1, 2, 3, 4, 5, 6]\n",
      "      DA     DK     DQ     DJ    D10     D9     D8     D7     D6     HA  ...  \\\n",
      "0  False  False  False   True  False  False  False   True  False  False  ...   \n",
      "1  False  False  False  False  False  False  False  False   True   True  ...   \n",
      "2  False  False   True  False  False  False   True  False  False  False  ...   \n",
      "3  False  False   True  False  False  False  False  False   True  False  ...   \n",
      "4  False   True  False  False   True  False  False  False  False  False  ...   \n",
      "\n",
      "      CA     CK     CQ     CJ    C10     C9     C8     C7     C6     FH  \n",
      "0   True  False  False  False  False  False  False   True  False  False  \n",
      "1   True  False  False   True   True  False   True  False  False   True  \n",
      "2  False   True  False  False  False  False  False  False  False  False  \n",
      "3  False   True  False  False   True  False   True  False  False  False  \n",
      "4  False   True  False  False  False  False  False  False   True   True  \n",
      "\n",
      "[5 rows x 37 columns]\n"
     ]
    },
    {
     "name": "stderr",
     "output_type": "stream",
     "text": [
      "C:\\Users\\olive_000\\anaconda3\\envs\\adml\\lib\\site-packages\\pandas\\core\\arrays\\categorical.py:2631: FutureWarning: The `inplace` parameter in pandas.Categorical.rename_categories is deprecated and will be removed in a future version. Removing unused categories will always return a new Categorical object.\n",
      "  res = method(*args, **kwargs)\n"
     ]
    }
   ],
   "source": [
    "df.trump = df.trump.astype('category')\n",
    "df[cards + forehand] = df[cards + forehand].astype(bool)\n",
    "df.trump.cat.rename_categories({10: 6}, inplace=True)\n",
    "\n",
    "df.head()\n",
    "\n",
    "df.trump.value_counts()\n",
    "trump = df.pop('trump')\n",
    "df.pop('id')\n",
    "print(trump.unique())\n",
    "y_train = tf.keras.utils.to_categorical(trump)\n",
    "\n",
    "print(df.head())"
   ],
   "metadata": {
    "collapsed": false,
    "pycharm": {
     "name": "#%%\n"
    }
   }
  },
  {
   "cell_type": "code",
   "execution_count": 46,
   "outputs": [],
   "source": [
    "from tensorflow.keras import regularizers\n",
    "model = keras.Sequential()\n",
    "model.add(keras.layers.Dense(37, activation='relu', input_shape=[37]))\n",
    "model.add(keras.layers.Dense(300, activation=\"relu\"\n",
    ",kernel_regularizer=regularizers.l2(0.001)))\n",
    "# model.add(tf.keras.layers.Dropout(0.3)),\n",
    "model.add(keras.layers.Dense(300, activation=\"relu\"\n",
    ",kernel_regularizer=regularizers.l2(0.001)))\n",
    "# model.add(tf.keras.layers.Dropout(0.3)),\n",
    "model.add(keras.layers.Dense(300, activation=\"relu\"\n",
    ",kernel_regularizer=regularizers.l2(0.001)))\n",
    "# model.add(tf.keras.layers.Dropout(0.3)),\n",
    "model.add(keras.layers.Dense(300, activation=\"relu\"\n",
    ",kernel_regularizer=regularizers.l2(0.001)))\n",
    "# model.add(tf.keras.layers.Dropout(0.3)),\n",
    "model.add(keras.layers.Dense(300, activation=\"relu\"\n",
    ",kernel_regularizer=regularizers.l2(0.001)))\n",
    "# model.add(tf.keras.layers.Dropout(0.3)),\n",
    "model.add(keras.layers.Dense(300, activation=\"relu\"\n",
    ",kernel_regularizer=regularizers.l2(0.001)))\n",
    "# model.add(tf.keras.layers.Dropout(0.3)),\n",
    "model.add(keras.layers.Dense(300, activation=\"relu\"\n",
    ",kernel_regularizer=regularizers.l2(0.001)))\n",
    "model.add(keras.layers.Dense(300, activation=\"relu\"\n",
    ",kernel_regularizer=regularizers.l2(0.001)))\n",
    "\n",
    "model.add(keras.layers.Dense(7, activation='softmax'))\n",
    "\n",
    "\n",
    "lr_schedule = tf.keras.optimizers.schedules.InverseTimeDecay(\n",
    "  0.001,\n",
    "  decay_steps=len(df)*1000,\n",
    "  decay_rate=1,\n",
    "  staircase=False)\n",
    "\n",
    "\n",
    "\n",
    "model.compile(loss='categorical_crossentropy',\n",
    "              optimizer=tf.keras.optimizers.Adam(learning_rate = lr_schedule),\n",
    "              metrics=['accuracy'])"
   ],
   "metadata": {
    "collapsed": false,
    "pycharm": {
     "name": "#%%\n"
    }
   }
  },
  {
   "cell_type": "code",
   "execution_count": 47,
   "outputs": [
    {
     "name": "stdout",
     "output_type": "stream",
     "text": [
      "(406288, 37)\n",
      "Epoch 1/80\n",
      "31/31 [==============================] - 2s 49ms/step - loss: 3.2584 - accuracy: 0.2947 - val_loss: 2.5233 - val_accuracy: 0.4263\n",
      "Epoch 2/80\n",
      "31/31 [==============================] - 1s 36ms/step - loss: 2.1426 - accuracy: 0.5134 - val_loss: 1.8132 - val_accuracy: 0.5920\n",
      "Epoch 3/80\n",
      "31/31 [==============================] - 1s 35ms/step - loss: 1.6421 - accuracy: 0.6315 - val_loss: 1.4953 - val_accuracy: 0.6632\n",
      "Epoch 4/80\n",
      "31/31 [==============================] - 1s 36ms/step - loss: 1.4032 - accuracy: 0.6875 - val_loss: 1.3197 - val_accuracy: 0.7093\n",
      "Epoch 5/80\n",
      "31/31 [==============================] - 1s 35ms/step - loss: 1.2877 - accuracy: 0.7129 - val_loss: 1.2336 - val_accuracy: 0.7269\n",
      "Epoch 6/80\n",
      "31/31 [==============================] - 1s 35ms/step - loss: 1.2233 - accuracy: 0.7246 - val_loss: 1.2093 - val_accuracy: 0.7248\n",
      "Epoch 7/80\n",
      "31/31 [==============================] - 1s 36ms/step - loss: 1.1723 - accuracy: 0.7335 - val_loss: 1.1436 - val_accuracy: 0.7400\n",
      "Epoch 8/80\n",
      "31/31 [==============================] - 1s 36ms/step - loss: 1.1421 - accuracy: 0.7355 - val_loss: 1.1170 - val_accuracy: 0.7393\n",
      "Epoch 9/80\n",
      "31/31 [==============================] - 1s 36ms/step - loss: 1.1035 - accuracy: 0.7429 - val_loss: 1.0750 - val_accuracy: 0.7496\n",
      "Epoch 10/80\n",
      "31/31 [==============================] - 1s 36ms/step - loss: 1.0644 - accuracy: 0.7497 - val_loss: 1.0678 - val_accuracy: 0.7426\n",
      "Epoch 11/80\n",
      "31/31 [==============================] - 1s 35ms/step - loss: 1.0388 - accuracy: 0.7520 - val_loss: 1.0300 - val_accuracy: 0.7516\n",
      "Epoch 12/80\n",
      "31/31 [==============================] - 1s 36ms/step - loss: 1.0342 - accuracy: 0.7462 - val_loss: 1.0140 - val_accuracy: 0.7527\n",
      "Epoch 13/80\n",
      "31/31 [==============================] - 1s 36ms/step - loss: 1.0004 - accuracy: 0.7547 - val_loss: 1.0052 - val_accuracy: 0.7490\n",
      "Epoch 14/80\n",
      "31/31 [==============================] - 1s 36ms/step - loss: 0.9824 - accuracy: 0.7555 - val_loss: 0.9787 - val_accuracy: 0.7532\n",
      "Epoch 15/80\n",
      "31/31 [==============================] - 1s 36ms/step - loss: 0.9615 - accuracy: 0.7584 - val_loss: 0.9474 - val_accuracy: 0.7600\n",
      "Epoch 16/80\n",
      "31/31 [==============================] - 1s 35ms/step - loss: 0.9487 - accuracy: 0.7575 - val_loss: 0.9409 - val_accuracy: 0.7561\n",
      "Epoch 17/80\n",
      "31/31 [==============================] - 1s 35ms/step - loss: 0.9418 - accuracy: 0.7555 - val_loss: 0.9263 - val_accuracy: 0.7578\n",
      "Epoch 18/80\n",
      "31/31 [==============================] - 1s 36ms/step - loss: 0.9196 - accuracy: 0.7609 - val_loss: 0.9113 - val_accuracy: 0.7608\n",
      "Epoch 19/80\n",
      "31/31 [==============================] - 1s 36ms/step - loss: 0.9014 - accuracy: 0.7632 - val_loss: 0.9141 - val_accuracy: 0.7554\n",
      "Epoch 20/80\n",
      "31/31 [==============================] - 1s 35ms/step - loss: 0.8975 - accuracy: 0.7608 - val_loss: 0.9085 - val_accuracy: 0.7521\n",
      "Epoch 21/80\n",
      "31/31 [==============================] - 1s 36ms/step - loss: 0.8831 - accuracy: 0.7630 - val_loss: 0.8760 - val_accuracy: 0.7617\n",
      "Epoch 22/80\n",
      "31/31 [==============================] - 1s 35ms/step - loss: 0.8743 - accuracy: 0.7630 - val_loss: 0.8680 - val_accuracy: 0.7634\n",
      "Epoch 23/80\n",
      "31/31 [==============================] - 1s 36ms/step - loss: 0.8575 - accuracy: 0.7667 - val_loss: 0.8563 - val_accuracy: 0.7652\n",
      "Epoch 24/80\n",
      "31/31 [==============================] - 1s 35ms/step - loss: 0.8529 - accuracy: 0.7642 - val_loss: 0.8391 - val_accuracy: 0.7688\n",
      "Epoch 25/80\n",
      "31/31 [==============================] - 1s 36ms/step - loss: 0.8463 - accuracy: 0.7651 - val_loss: 0.8444 - val_accuracy: 0.7620\n",
      "Epoch 26/80\n",
      "31/31 [==============================] - 1s 35ms/step - loss: 0.8484 - accuracy: 0.7612 - val_loss: 0.8278 - val_accuracy: 0.7669\n",
      "Epoch 27/80\n",
      "31/31 [==============================] - 1s 35ms/step - loss: 0.8231 - accuracy: 0.7694 - val_loss: 0.8165 - val_accuracy: 0.7691\n",
      "Epoch 28/80\n",
      "31/31 [==============================] - 1s 36ms/step - loss: 0.8167 - accuracy: 0.7690 - val_loss: 0.8225 - val_accuracy: 0.7635\n",
      "Epoch 29/80\n",
      "31/31 [==============================] - 1s 36ms/step - loss: 0.8151 - accuracy: 0.7677 - val_loss: 0.8121 - val_accuracy: 0.7666\n",
      "Epoch 30/80\n",
      "31/31 [==============================] - 1s 36ms/step - loss: 0.8115 - accuracy: 0.7667 - val_loss: 0.8144 - val_accuracy: 0.7623\n",
      "Epoch 31/80\n",
      "31/31 [==============================] - 1s 37ms/step - loss: 0.8088 - accuracy: 0.7654 - val_loss: 0.7972 - val_accuracy: 0.7683\n",
      "Epoch 32/80\n",
      "31/31 [==============================] - 1s 36ms/step - loss: 0.7927 - accuracy: 0.7700 - val_loss: 0.7870 - val_accuracy: 0.7699\n",
      "Epoch 33/80\n",
      "31/31 [==============================] - 1s 36ms/step - loss: 0.7882 - accuracy: 0.7700 - val_loss: 0.7963 - val_accuracy: 0.7630\n",
      "Epoch 34/80\n",
      "31/31 [==============================] - 1s 36ms/step - loss: 0.7887 - accuracy: 0.7677 - val_loss: 0.7782 - val_accuracy: 0.7710\n",
      "Epoch 35/80\n",
      "31/31 [==============================] - 1s 36ms/step - loss: 0.7778 - accuracy: 0.7706 - val_loss: 0.7710 - val_accuracy: 0.7706\n",
      "Epoch 36/80\n",
      "31/31 [==============================] - 1s 36ms/step - loss: 0.7735 - accuracy: 0.7708 - val_loss: 0.7963 - val_accuracy: 0.7578\n",
      "Epoch 37/80\n",
      "31/31 [==============================] - 1s 36ms/step - loss: 0.7842 - accuracy: 0.7654 - val_loss: 0.7682 - val_accuracy: 0.7693\n",
      "Epoch 38/80\n",
      "31/31 [==============================] - 1s 36ms/step - loss: 0.7694 - accuracy: 0.7700 - val_loss: 0.7754 - val_accuracy: 0.7648\n",
      "Epoch 39/80\n",
      "31/31 [==============================] - 1s 36ms/step - loss: 0.7621 - accuracy: 0.7717 - val_loss: 0.7577 - val_accuracy: 0.7720\n",
      "Epoch 40/80\n",
      "31/31 [==============================] - 1s 36ms/step - loss: 0.7617 - accuracy: 0.7702 - val_loss: 0.7536 - val_accuracy: 0.7708\n",
      "Epoch 41/80\n",
      "31/31 [==============================] - 1s 37ms/step - loss: 0.7703 - accuracy: 0.7650 - val_loss: 0.7593 - val_accuracy: 0.7678\n",
      "Epoch 42/80\n",
      "31/31 [==============================] - 1s 36ms/step - loss: 0.7541 - accuracy: 0.7709 - val_loss: 0.7513 - val_accuracy: 0.7695\n",
      "Epoch 43/80\n",
      "31/31 [==============================] - 1s 36ms/step - loss: 0.7514 - accuracy: 0.7710 - val_loss: 0.7480 - val_accuracy: 0.7691\n",
      "Epoch 44/80\n",
      "31/31 [==============================] - 1s 37ms/step - loss: 0.7485 - accuracy: 0.7709 - val_loss: 0.7505 - val_accuracy: 0.7681\n",
      "Epoch 45/80\n",
      "31/31 [==============================] - 1s 36ms/step - loss: 0.7427 - accuracy: 0.7721 - val_loss: 0.7533 - val_accuracy: 0.7661\n",
      "Epoch 46/80\n",
      "31/31 [==============================] - 1s 35ms/step - loss: 0.7487 - accuracy: 0.7685 - val_loss: 0.7412 - val_accuracy: 0.7708\n",
      "Epoch 47/80\n",
      "31/31 [==============================] - 1s 36ms/step - loss: 0.7410 - accuracy: 0.7712 - val_loss: 0.7612 - val_accuracy: 0.7597\n",
      "Epoch 48/80\n",
      "31/31 [==============================] - 1s 36ms/step - loss: 0.7387 - accuracy: 0.7709 - val_loss: 0.7323 - val_accuracy: 0.7709\n",
      "Epoch 49/80\n",
      "31/31 [==============================] - 1s 36ms/step - loss: 0.7313 - accuracy: 0.7727 - val_loss: 0.7360 - val_accuracy: 0.7684\n",
      "Epoch 50/80\n",
      "31/31 [==============================] - 1s 37ms/step - loss: 0.7347 - accuracy: 0.7709 - val_loss: 0.7270 - val_accuracy: 0.7715\n",
      "Epoch 51/80\n",
      "31/31 [==============================] - 1s 36ms/step - loss: 0.7241 - accuracy: 0.7746 - val_loss: 0.7436 - val_accuracy: 0.7631\n",
      "Epoch 52/80\n",
      "31/31 [==============================] - 1s 35ms/step - loss: 0.7318 - accuracy: 0.7700 - val_loss: 0.7301 - val_accuracy: 0.7693\n",
      "Epoch 53/80\n",
      "31/31 [==============================] - 1s 36ms/step - loss: 0.7275 - accuracy: 0.7712 - val_loss: 0.7264 - val_accuracy: 0.7710\n",
      "Epoch 54/80\n",
      "31/31 [==============================] - 1s 36ms/step - loss: 0.7266 - accuracy: 0.7712 - val_loss: 0.7234 - val_accuracy: 0.7704\n",
      "Epoch 55/80\n",
      "31/31 [==============================] - 1s 36ms/step - loss: 0.7183 - accuracy: 0.7741 - val_loss: 0.7251 - val_accuracy: 0.7694\n",
      "Epoch 56/80\n",
      "31/31 [==============================] - 1s 36ms/step - loss: 0.7187 - accuracy: 0.7727 - val_loss: 0.7164 - val_accuracy: 0.7721\n",
      "Epoch 57/80\n",
      "31/31 [==============================] - 1s 36ms/step - loss: 0.7231 - accuracy: 0.7698 - val_loss: 0.7333 - val_accuracy: 0.7635\n",
      "Epoch 58/80\n",
      "31/31 [==============================] - 1s 36ms/step - loss: 0.7205 - accuracy: 0.7711 - val_loss: 0.7173 - val_accuracy: 0.7703\n",
      "Epoch 59/80\n",
      "31/31 [==============================] - 1s 37ms/step - loss: 0.7167 - accuracy: 0.7714 - val_loss: 0.7280 - val_accuracy: 0.7628\n"
     ]
    }
   ],
   "source": [
    "from keras.callbacks import EarlyStopping\n",
    "\n",
    "print(df.shape)\n",
    "early_stop = EarlyStopping(monitor='val_loss', patience=3)\n",
    "history = model.fit(df.values, y_train, validation_split=0.25, epochs=80, batch_size=10_000,\n",
    "              callbacks =[early_stop]\n",
    "                    )"
   ],
   "metadata": {
    "collapsed": false,
    "pycharm": {
     "name": "#%%\n"
    }
   }
  },
  {
   "cell_type": "code",
   "execution_count": 48,
   "outputs": [
    {
     "data": {
      "text/plain": "<matplotlib.legend.Legend at 0x251142d14c0>"
     },
     "execution_count": 48,
     "metadata": {},
     "output_type": "execute_result"
    },
    {
     "data": {
      "text/plain": "<Figure size 432x288 with 1 Axes>",
      "image/png": "[encoded data removed]"
     },
     "metadata": {
      "needs_background": "light"
     },
     "output_type": "display_data"
    }
   ],
   "source": [
    "\n",
    "\n",
    "plt.plot(history.history['accuracy'])\n",
    "plt.plot(history.history['val_loss'])\n",
    "plt.title('Accuracy')\n",
    "plt.xlabel('epoch')\n",
    "plt.ylabel('acc')\n",
    "plt.legend(['Train', 'Val'], loc='upper left')"
   ],
   "metadata": {
    "collapsed": false,
    "pycharm": {
     "name": "#%%\n"
    }
   }
  },
  {
   "cell_type": "code",
   "execution_count": 49,
   "outputs": [
    {
     "name": "stdout",
     "output_type": "stream",
     "text": [
      "INFO:tensorflow:Assets written to: models/v7\\assets\n"
     ]
    }
   ],
   "source": [
    "model.save('models/v7')"
   ],
   "metadata": {
    "collapsed": false,
    "pycharm": {
     "name": "#%%\n"
    }
   }
  },
  {
   "cell_type": "code",
   "execution_count": null,
   "outputs": [],
   "source": [],
   "metadata": {
    "collapsed": false,
    "pycharm": {
     "name": "#%%\n"
    }
   }
  }
 ],
 "metadata": {
  "kernelspec": {
   "display_name": "Python 3 (ipykernel)",
   "language": "python",
   "name": "python3"
  },
  "language_info": {
   "codemirror_mode": {
    "name": "ipython",
    "version": 3
   },
   "file_extension": ".py",
   "mimetype": "text/x-python",
   "name": "python",
   "nbconvert_exporter": "python",
   "pygments_lexer": "ipython3",
   "version": "3.9.7"
  }
 },
 "nbformat": 4,
 "nbformat_minor": 2
}