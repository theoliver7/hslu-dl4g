{
 "cells": [
  {
   "cell_type": "markdown",
   "metadata": {
    "pycharm": {
     "name": "#%% md\n"
    }
   },
   "source": [
    "# Notebook to train a DNN for card play\n",
    "\n",
    "### Libraries\n",
    "\n",
    "We use the keras library for building, training and evaluating the network. A tutorial for keras can be found on (https://keras.io/) or https://www.tensorflow.org/guide/keras. There are different implementations of keras, here I will use the one build on tensorflow.\n"
   ]
  },
  {
   "cell_type": "code",
   "execution_count": 1,
   "outputs": [],
   "source": [
    "import numpy as np\n",
    "import pandas as pd\n",
    "import tensorflow as tf\n",
    "from tensorflow import keras\n",
    "from matplotlib import pyplot as plt"
   ],
   "metadata": {
    "collapsed": false,
    "pycharm": {
     "name": "#%%\n"
    }
   }
  },
  {
   "cell_type": "markdown",
   "source": [
    "Create dataframe with all the better than average player"
   ],
   "metadata": {
    "collapsed": false
   }
  },
  {
   "cell_type": "code",
   "execution_count": 2,
   "outputs": [
    {
     "data": {
      "text/plain": "         id        mean        std  nr\n4563  30505  140.000000   0.000000   1\n4476  78140  117.200000  39.448701   5\n4540  50172  116.666667  35.803166   6\n4485   9797  115.857143  35.324347   7\n2988  51264  115.000000  35.853870   5",
      "text/html": "<div>\n<style scoped>\n    .dataframe tbody tr th:only-of-type {\n        vertical-align: middle;\n    }\n\n    .dataframe tbody tr th {\n        vertical-align: top;\n    }\n\n    .dataframe thead th {\n        text-align: right;\n    }\n</style>\n<table border=\"1\" class=\"dataframe\">\n  <thead>\n    <tr style=\"text-align: right;\">\n      <th></th>\n      <th>id</th>\n      <th>mean</th>\n      <th>std</th>\n      <th>nr</th>\n    </tr>\n  </thead>\n  <tbody>\n    <tr>\n      <th>4563</th>\n      <td>30505</td>\n      <td>140.000000</td>\n      <td>0.000000</td>\n      <td>1</td>\n    </tr>\n    <tr>\n      <th>4476</th>\n      <td>78140</td>\n      <td>117.200000</td>\n      <td>39.448701</td>\n      <td>5</td>\n    </tr>\n    <tr>\n      <th>4540</th>\n      <td>50172</td>\n      <td>116.666667</td>\n      <td>35.803166</td>\n      <td>6</td>\n    </tr>\n    <tr>\n      <th>4485</th>\n      <td>9797</td>\n      <td>115.857143</td>\n      <td>35.324347</td>\n      <td>7</td>\n    </tr>\n    <tr>\n      <th>2988</th>\n      <td>51264</td>\n      <td>115.000000</td>\n      <td>35.853870</td>\n      <td>5</td>\n    </tr>\n  </tbody>\n</table>\n</div>"
     },
     "execution_count": 2,
     "metadata": {},
     "output_type": "execute_result"
    }
   ],
   "source": [
    "df_stat = pd.read_json(\"data/stat/player_all_stat.json\")\n",
    "df_stat = df_stat.sort_values(by='mean', ascending=False)\n",
    "mean = df_stat['mean'].mean()\n",
    "df_stat = df_stat.drop(df_stat[df_stat['mean'] < mean].index)\n",
    "df_stat.head()"
   ],
   "metadata": {
    "collapsed": false,
    "pycharm": {
     "name": "#%%\n"
    }
   }
  },
  {
   "cell_type": "code",
   "execution_count": 3,
   "outputs": [
    {
     "name": "stdout",
     "output_type": "stream",
     "text": [
      "['DA' 'DK' 'DQ' 'DJ' 'D10' 'D9' 'D8' 'D7' 'D6' 'HA' 'HK' 'HQ' 'HJ' 'H10'\n",
      " 'H9' 'H8' 'H7' 'H6' 'SA' 'SK' 'SQ' 'SJ' 'S10' 'S9' 'S8' 'S7' 'S6' 'CA'\n",
      " 'CK' 'CQ' 'CJ' 'C10' 'C9' 'C8' 'C7' 'C6' 'FH' 'trump']\n"
     ]
    }
   ],
   "source": [
    "cards = [\n",
    "    # Diamonds\n",
    "    'DA', 'DK', 'DQ', 'DJ', 'D10', 'D9', 'D8', 'D7', 'D6',\n",
    "    # Hearts\n",
    "    'HA', 'HK', 'HQ', 'HJ', 'H10', 'H9', 'H8', 'H7', 'H6',\n",
    "    # Spades\n",
    "    'SA', 'SK', 'SQ', 'SJ', 'S10', 'S9', 'S8', 'S7', 'S6',\n",
    "    # Clubs\n",
    "    'CA', 'CK', 'CQ', 'CJ', 'C10', 'C9', 'C8', 'C7', 'C6'\n",
    "]\n",
    "\n",
    "forehand = ['FH']\n",
    "\n",
    "user = ['user']\n",
    "trump = ['trump']\n",
    "cols = np.concatenate([cards,forehand,trump])\n",
    "print(cols)\n",
    "df = pd.DataFrame(columns=cols)"
   ],
   "metadata": {
    "collapsed": false,
    "pycharm": {
     "name": "#%%\n"
    }
   }
  },
  {
   "cell_type": "code",
   "execution_count": 4,
   "outputs": [],
   "source": [
    "# import os\n",
    "# from jass.logs.game_obs_action_log_entry import GameObsActionLogEntry\n",
    "# import json\n",
    "#\n",
    "# for file in os.listdir('C:/dev/git/dl4g/notebooks/data/games/trump'):\n",
    "#     with open(\"C:/dev/git/dl4g/notebooks/data/games/trump/\"+file, \"r\") as file:\n",
    "#         lines = file.readlines()\n",
    "#\n",
    "#         for line in lines:\n",
    "#             line = json.loads(line.strip())\n",
    "#             obs_log = GameObsActionLogEntry.from_json(line)\n",
    "#\n",
    "#             if obs_log.player_id in df_stat[\"id\"]:\n",
    "#                 row = np.concatenate([obs_log.obs.hand,[obs_log.obs.forehand],[obs_log.action]])\n",
    "#                 df.loc[len(df.index)] =row\n",
    "#\n",
    "#\n",
    "#\n",
    "# df.head()"
   ],
   "metadata": {
    "collapsed": false,
    "pycharm": {
     "name": "#%%\n"
    }
   }
  },
  {
   "cell_type": "code",
   "execution_count": 5,
   "outputs": [
    {
     "name": "stdout",
     "output_type": "stream",
     "text": [
      "(301521, 38)\n",
      "10    113511\n",
      "5      37107\n",
      "2      33995\n",
      "3      33622\n",
      "4      30062\n",
      "1      27048\n",
      "0      26176\n",
      "Name: trump, dtype: int64\n"
     ]
    }
   ],
   "source": [
    "#df.to_pickle(\"trump_df.pkl\") #read with\n",
    "df = pd.read_pickle(\"trump_df.pkl\")\n",
    "print(df.shape)\n",
    "print(df['trump'].value_counts())"
   ],
   "metadata": {
    "collapsed": false,
    "pycharm": {
     "name": "#%%\n"
    }
   }
  },
  {
   "cell_type": "code",
   "execution_count": 5,
   "outputs": [],
   "source": [],
   "metadata": {
    "collapsed": false,
    "pycharm": {
     "name": "#%%\n"
    }
   }
  },
  {
   "cell_type": "code",
   "execution_count": 6,
   "outputs": [
    {
     "name": "stdout",
     "output_type": "stream",
     "text": [
      "  DA DK DQ DJ D10 D9 D8 D7 D6 HA  ... CK CQ CJ C10 C9 C8 C7 C6  FH trump\n",
      "0  0  0  0  0   0  0  0  0  1  1  ...  0  0  0   1  0  1  0  1   0     2\n",
      "1  1  1  0  0   0  0  0  1  0  0  ...  0  0  0   1  0  0  0  0   0     2\n",
      "2  1  1  1  0   1  0  1  0  0  1  ...  0  0  0   0  1  0  0  0  -1     4\n",
      "3  0  1  1  0   0  0  0  0  0  1  ...  0  0  1   0  0  1  0  0   0     1\n",
      "4  1  0  0  0   1  0  0  1  1  1  ...  0  0  0   0  0  0  0  0   0     2\n",
      "\n",
      "[5 rows x 38 columns]\n",
      "5     37107\n",
      "2     33995\n",
      "3     33622\n",
      "10    33511\n",
      "4     30062\n",
      "1     27048\n",
      "0     26176\n",
      "Name: trump, dtype: int64\n"
     ]
    }
   ],
   "source": [
    "df = df.sort_values(by='trump')\n",
    "df.drop(df.tail(80_000).index, inplace = True)\n",
    "df = df.sample(frac=1).reset_index(drop=True)\n",
    "print(df.head())\n",
    "print(df['trump'].value_counts())"
   ],
   "metadata": {
    "collapsed": false,
    "pycharm": {
     "name": "#%%\n"
    }
   }
  },
  {
   "cell_type": "code",
   "execution_count": 7,
   "outputs": [
    {
     "name": "stdout",
     "output_type": "stream",
     "text": [
      "[2, 4, 1, 3, 5, 0, 6]\n",
      "Categories (7, int64): [2, 4, 1, 3, 5, 0, 6]\n",
      "      DA     DK     DQ     DJ    D10     D9     D8     D7     D6     HA  ...  \\\n",
      "0  False  False  False  False  False  False  False  False   True   True  ...   \n",
      "1   True   True  False  False  False  False  False   True  False  False  ...   \n",
      "2   True   True   True  False   True  False   True  False  False   True  ...   \n",
      "3  False   True   True  False  False  False  False  False  False   True  ...   \n",
      "4   True  False  False  False   True  False  False   True   True   True  ...   \n",
      "\n",
      "      CA     CK     CQ     CJ    C10     C9     C8     C7     C6     FH  \n",
      "0  False  False  False  False   True  False   True  False   True  False  \n",
      "1  False  False  False  False   True  False  False  False  False  False  \n",
      "2  False  False  False  False  False   True  False  False  False   True  \n",
      "3  False  False  False   True  False  False   True  False  False  False  \n",
      "4  False  False  False  False  False  False  False  False  False  False  \n",
      "\n",
      "[5 rows x 37 columns]\n"
     ]
    }
   ],
   "source": [
    "df.trump = df.trump.astype('category')\n",
    "df[cards + forehand] = df[cards + forehand].astype(bool)\n",
    "df.trump.cat.rename_categories({10: 6}, inplace=True)\n",
    "\n",
    "df.head()\n",
    "\n",
    "df.trump.value_counts()\n",
    "trump = df.pop('trump')\n",
    "print(trump.unique())\n",
    "y_train = tf.keras.utils.to_categorical(trump)\n",
    "\n",
    "print(df.head())"
   ],
   "metadata": {
    "collapsed": false,
    "pycharm": {
     "name": "#%%\n"
    }
   }
  },
  {
   "cell_type": "code",
   "execution_count": 22,
   "outputs": [],
   "source": [
    "from tensorflow.keras import regularizers\n",
    "model = keras.Sequential()\n",
    "model.add(keras.layers.Dense(37, activation='relu', input_shape=[37]))\n",
    "model.add(keras.layers.Dense(300, activation=\"relu\"\n",
    ",kernel_regularizer=regularizers.l2(0.001)))\n",
    "# model.add(tf.keras.layers.Dropout(0.3)),\n",
    "model.add(keras.layers.Dense(300, activation=\"relu\"\n",
    ",kernel_regularizer=regularizers.l2(0.001)))\n",
    "# model.add(tf.keras.layers.Dropout(0.3)),\n",
    "model.add(keras.layers.Dense(300, activation=\"relu\"\n",
    ",kernel_regularizer=regularizers.l2(0.001)))\n",
    "# model.add(tf.keras.layers.Dropout(0.3)),\n",
    "model.add(keras.layers.Dense(300, activation=\"relu\"\n",
    ",kernel_regularizer=regularizers.l2(0.001)))\n",
    "# model.add(tf.keras.layers.Dropout(0.3)),\n",
    "model.add(keras.layers.Dense(300, activation=\"relu\"\n",
    ",kernel_regularizer=regularizers.l2(0.001)))\n",
    "# model.add(tf.keras.layers.Dropout(0.3)),\n",
    "model.add(keras.layers.Dense(300, activation=\"relu\"\n",
    ",kernel_regularizer=regularizers.l2(0.001)))\n",
    "# model.add(tf.keras.layers.Dropout(0.3)),\n",
    "model.add(keras.layers.Dense(300, activation=\"relu\"\n",
    ",kernel_regularizer=regularizers.l2(0.001)))\n",
    "model.add(keras.layers.Dense(300, activation=\"relu\"\n",
    ",kernel_regularizer=regularizers.l2(0.001)))\n",
    "\n",
    "model.add(keras.layers.Dense(7, activation='softmax'))\n",
    "\n",
    "\n",
    "lr_schedule = tf.keras.optimizers.schedules.InverseTimeDecay(\n",
    "  0.001,\n",
    "  decay_steps=len(df)*1000,\n",
    "  decay_rate=1,\n",
    "  staircase=False)\n",
    "\n",
    "\n",
    "\n",
    "model.compile(loss='categorical_crossentropy',\n",
    "              optimizer=tf.keras.optimizers.Adam(learning_rate = lr_schedule),\n",
    "              metrics=['accuracy'])"
   ],
   "metadata": {
    "collapsed": false,
    "pycharm": {
     "name": "#%%\n"
    }
   }
  },
  {
   "cell_type": "code",
   "execution_count": 23,
   "outputs": [
    {
     "name": "stdout",
     "output_type": "stream",
     "text": [
      "(221521, 37)\n",
      "Epoch 1/80\n",
      "17/17 [==============================] - 1s 47ms/step - loss: 3.6203 - accuracy: 0.2331 - val_loss: 3.1165 - val_accuracy: 0.3317\n",
      "Epoch 2/80\n",
      "17/17 [==============================] - 1s 36ms/step - loss: 2.7668 - accuracy: 0.4127 - val_loss: 2.4572 - val_accuracy: 0.4641\n",
      "Epoch 3/80\n",
      "17/17 [==============================] - 1s 37ms/step - loss: 2.2486 - accuracy: 0.5106 - val_loss: 2.0172 - val_accuracy: 0.5666\n",
      "Epoch 4/80\n",
      "17/17 [==============================] - 1s 37ms/step - loss: 1.8948 - accuracy: 0.5911 - val_loss: 1.7447 - val_accuracy: 0.6272\n",
      "Epoch 5/80\n",
      "17/17 [==============================] - 1s 37ms/step - loss: 1.6629 - accuracy: 0.6442 - val_loss: 1.5582 - val_accuracy: 0.6746\n",
      "Epoch 6/80\n",
      "17/17 [==============================] - 1s 37ms/step - loss: 1.5302 - accuracy: 0.6733 - val_loss: 1.4860 - val_accuracy: 0.6823\n",
      "Epoch 7/80\n",
      "17/17 [==============================] - 1s 36ms/step - loss: 1.4305 - accuracy: 0.6988 - val_loss: 1.3825 - val_accuracy: 0.7111\n",
      "Epoch 8/80\n",
      "17/17 [==============================] - 1s 37ms/step - loss: 1.3596 - accuracy: 0.7142 - val_loss: 1.3374 - val_accuracy: 0.7177\n",
      "Epoch 9/80\n",
      "17/17 [==============================] - 1s 36ms/step - loss: 1.3410 - accuracy: 0.7120 - val_loss: 1.3523 - val_accuracy: 0.7016\n",
      "Epoch 10/80\n",
      "17/17 [==============================] - 1s 36ms/step - loss: 1.2963 - accuracy: 0.7229 - val_loss: 1.2647 - val_accuracy: 0.7317\n",
      "Epoch 11/80\n",
      "17/17 [==============================] - 1s 36ms/step - loss: 1.2522 - accuracy: 0.7344 - val_loss: 1.2443 - val_accuracy: 0.7305\n",
      "Epoch 12/80\n",
      "17/17 [==============================] - 1s 37ms/step - loss: 1.2259 - accuracy: 0.7383 - val_loss: 1.2082 - val_accuracy: 0.7398\n",
      "Epoch 13/80\n",
      "17/17 [==============================] - 1s 37ms/step - loss: 1.1980 - accuracy: 0.7432 - val_loss: 1.1957 - val_accuracy: 0.7397\n",
      "Epoch 14/80\n",
      "17/17 [==============================] - 1s 37ms/step - loss: 1.1833 - accuracy: 0.7422 - val_loss: 1.2129 - val_accuracy: 0.7286\n",
      "Epoch 15/80\n",
      "17/17 [==============================] - 1s 37ms/step - loss: 1.1873 - accuracy: 0.7350 - val_loss: 1.1625 - val_accuracy: 0.7404\n",
      "Epoch 16/80\n",
      "17/17 [==============================] - 1s 37ms/step - loss: 1.1423 - accuracy: 0.7490 - val_loss: 1.1263 - val_accuracy: 0.7515\n",
      "Epoch 17/80\n",
      "17/17 [==============================] - 1s 36ms/step - loss: 1.1220 - accuracy: 0.7518 - val_loss: 1.1470 - val_accuracy: 0.7359\n",
      "Epoch 18/80\n",
      "17/17 [==============================] - 1s 37ms/step - loss: 1.1248 - accuracy: 0.7458 - val_loss: 1.1065 - val_accuracy: 0.7491\n",
      "Epoch 19/80\n",
      "17/17 [==============================] - 1s 36ms/step - loss: 1.0929 - accuracy: 0.7539 - val_loss: 1.0877 - val_accuracy: 0.7514\n",
      "Epoch 20/80\n",
      "17/17 [==============================] - 1s 36ms/step - loss: 1.0742 - accuracy: 0.7570 - val_loss: 1.0736 - val_accuracy: 0.7529\n",
      "Epoch 21/80\n",
      "17/17 [==============================] - 1s 36ms/step - loss: 1.0631 - accuracy: 0.7579 - val_loss: 1.0692 - val_accuracy: 0.7509\n",
      "Epoch 22/80\n",
      "17/17 [==============================] - 1s 35ms/step - loss: 1.0550 - accuracy: 0.7552 - val_loss: 1.0466 - val_accuracy: 0.7568\n",
      "Epoch 23/80\n",
      "17/17 [==============================] - 1s 36ms/step - loss: 1.0388 - accuracy: 0.7587 - val_loss: 1.0295 - val_accuracy: 0.7591\n",
      "Epoch 24/80\n",
      "17/17 [==============================] - 1s 35ms/step - loss: 1.0213 - accuracy: 0.7627 - val_loss: 1.0294 - val_accuracy: 0.7537\n",
      "Epoch 25/80\n",
      "17/17 [==============================] - 1s 36ms/step - loss: 1.0151 - accuracy: 0.7607 - val_loss: 1.0101 - val_accuracy: 0.7604\n",
      "Epoch 26/80\n",
      "17/17 [==============================] - 1s 36ms/step - loss: 1.0030 - accuracy: 0.7626 - val_loss: 1.0141 - val_accuracy: 0.7546\n",
      "Epoch 27/80\n",
      "17/17 [==============================] - 1s 35ms/step - loss: 0.9870 - accuracy: 0.7656 - val_loss: 0.9996 - val_accuracy: 0.7552\n",
      "Epoch 28/80\n",
      "17/17 [==============================] - 1s 35ms/step - loss: 0.9814 - accuracy: 0.7643 - val_loss: 1.0199 - val_accuracy: 0.7459\n",
      "Epoch 29/80\n",
      "17/17 [==============================] - 1s 35ms/step - loss: 1.0097 - accuracy: 0.7501 - val_loss: 0.9759 - val_accuracy: 0.7632\n",
      "Epoch 30/80\n",
      "17/17 [==============================] - 1s 39ms/step - loss: 0.9685 - accuracy: 0.7649 - val_loss: 0.9784 - val_accuracy: 0.7561\n",
      "Epoch 31/80\n",
      "17/17 [==============================] - 1s 35ms/step - loss: 0.9647 - accuracy: 0.7624 - val_loss: 0.9533 - val_accuracy: 0.7642\n",
      "Epoch 32/80\n",
      "17/17 [==============================] - 1s 38ms/step - loss: 0.9488 - accuracy: 0.7668 - val_loss: 0.9464 - val_accuracy: 0.7623\n",
      "Epoch 33/80\n",
      "17/17 [==============================] - 1s 37ms/step - loss: 0.9449 - accuracy: 0.7637 - val_loss: 0.9492 - val_accuracy: 0.7604\n",
      "Epoch 34/80\n",
      "17/17 [==============================] - 2s 154ms/step - loss: 0.9252 - accuracy: 0.7705 - val_loss: 0.9347 - val_accuracy: 0.7620\n",
      "Epoch 35/80\n",
      "17/17 [==============================] - 4s 266ms/step - loss: 0.9194 - accuracy: 0.7694 - val_loss: 0.9307 - val_accuracy: 0.7619\n",
      "Epoch 36/80\n",
      "17/17 [==============================] - 1s 37ms/step - loss: 0.9133 - accuracy: 0.7696 - val_loss: 0.9256 - val_accuracy: 0.7604\n",
      "Epoch 37/80\n",
      "17/17 [==============================] - 5s 281ms/step - loss: 0.9047 - accuracy: 0.7702 - val_loss: 0.9078 - val_accuracy: 0.7653\n",
      "Epoch 38/80\n",
      "17/17 [==============================] - 1s 37ms/step - loss: 0.8952 - accuracy: 0.7722 - val_loss: 0.9033 - val_accuracy: 0.7654\n",
      "Epoch 39/80\n",
      "17/17 [==============================] - 4s 270ms/step - loss: 0.8873 - accuracy: 0.7741 - val_loss: 0.8993 - val_accuracy: 0.7654\n",
      "Epoch 40/80\n",
      "17/17 [==============================] - 4s 254ms/step - loss: 0.8910 - accuracy: 0.7687 - val_loss: 0.8900 - val_accuracy: 0.7675\n",
      "Epoch 41/80\n",
      "17/17 [==============================] - 1s 36ms/step - loss: 0.8794 - accuracy: 0.7717 - val_loss: 0.8841 - val_accuracy: 0.7651\n",
      "Epoch 42/80\n",
      "17/17 [==============================] - 4s 268ms/step - loss: 0.8775 - accuracy: 0.7706 - val_loss: 0.8833 - val_accuracy: 0.7646\n",
      "Epoch 43/80\n",
      "17/17 [==============================] - 1s 36ms/step - loss: 0.8653 - accuracy: 0.7739 - val_loss: 0.8838 - val_accuracy: 0.7626\n",
      "Epoch 44/80\n",
      "17/17 [==============================] - 4s 258ms/step - loss: 0.8632 - accuracy: 0.7722 - val_loss: 0.8643 - val_accuracy: 0.7683\n",
      "Epoch 45/80\n",
      "17/17 [==============================] - 4s 259ms/step - loss: 0.8592 - accuracy: 0.7719 - val_loss: 0.8647 - val_accuracy: 0.7671\n",
      "Epoch 46/80\n",
      "17/17 [==============================] - 1s 38ms/step - loss: 0.8510 - accuracy: 0.7736 - val_loss: 0.8610 - val_accuracy: 0.7669\n",
      "Epoch 47/80\n",
      "17/17 [==============================] - 4s 274ms/step - loss: 0.8476 - accuracy: 0.7730 - val_loss: 0.8572 - val_accuracy: 0.7652\n",
      "Epoch 48/80\n",
      "17/17 [==============================] - 1s 36ms/step - loss: 0.8441 - accuracy: 0.7724 - val_loss: 0.8527 - val_accuracy: 0.7658\n",
      "Epoch 49/80\n",
      "17/17 [==============================] - 4s 261ms/step - loss: 0.8417 - accuracy: 0.7715 - val_loss: 0.8429 - val_accuracy: 0.7678\n",
      "Epoch 50/80\n",
      "17/17 [==============================] - 4s 262ms/step - loss: 0.8340 - accuracy: 0.7739 - val_loss: 0.8417 - val_accuracy: 0.7663\n",
      "Epoch 51/80\n",
      "17/17 [==============================] - 1s 37ms/step - loss: 0.8268 - accuracy: 0.7754 - val_loss: 0.8418 - val_accuracy: 0.7657\n",
      "Epoch 52/80\n",
      "17/17 [==============================] - 4s 257ms/step - loss: 0.8226 - accuracy: 0.7744 - val_loss: 0.8298 - val_accuracy: 0.7688\n",
      "Epoch 53/80\n",
      "17/17 [==============================] - 1s 36ms/step - loss: 0.8195 - accuracy: 0.7740 - val_loss: 0.8420 - val_accuracy: 0.7621\n",
      "Epoch 54/80\n",
      "17/17 [==============================] - 4s 256ms/step - loss: 0.8128 - accuracy: 0.7755 - val_loss: 0.8213 - val_accuracy: 0.7705\n",
      "Epoch 55/80\n",
      "17/17 [==============================] - 4s 253ms/step - loss: 0.8129 - accuracy: 0.7746 - val_loss: 0.8504 - val_accuracy: 0.7566\n",
      "Epoch 56/80\n",
      "17/17 [==============================] - 1s 36ms/step - loss: 0.8219 - accuracy: 0.7685 - val_loss: 0.8255 - val_accuracy: 0.7636\n",
      "Epoch 57/80\n",
      "17/17 [==============================] - 4s 259ms/step - loss: 0.8089 - accuracy: 0.7738 - val_loss: 0.8628 - val_accuracy: 0.7511\n",
      "Epoch 58/80\n",
      "17/17 [==============================] - 1s 37ms/step - loss: 0.8173 - accuracy: 0.7684 - val_loss: 0.8130 - val_accuracy: 0.7673\n",
      "Epoch 59/80\n",
      "17/17 [==============================] - 4s 264ms/step - loss: 0.8013 - accuracy: 0.7741 - val_loss: 0.8151 - val_accuracy: 0.7654\n",
      "Epoch 60/80\n",
      "17/17 [==============================] - 4s 250ms/step - loss: 0.7955 - accuracy: 0.7755 - val_loss: 0.8110 - val_accuracy: 0.7680\n",
      "Epoch 61/80\n",
      "17/17 [==============================] - 1s 36ms/step - loss: 0.7873 - accuracy: 0.7782 - val_loss: 0.8020 - val_accuracy: 0.7685\n",
      "Epoch 62/80\n",
      "17/17 [==============================] - 4s 253ms/step - loss: 0.7853 - accuracy: 0.7771 - val_loss: 0.7908 - val_accuracy: 0.7722\n",
      "Epoch 63/80\n",
      "17/17 [==============================] - 1s 36ms/step - loss: 0.7944 - accuracy: 0.7728 - val_loss: 0.8039 - val_accuracy: 0.7654\n",
      "Epoch 64/80\n",
      "17/17 [==============================] - 4s 260ms/step - loss: 0.7822 - accuracy: 0.7763 - val_loss: 0.7979 - val_accuracy: 0.7670\n",
      "Epoch 65/80\n",
      "17/17 [==============================] - 4s 266ms/step - loss: 0.7860 - accuracy: 0.7738 - val_loss: 0.7895 - val_accuracy: 0.7691\n",
      "Epoch 66/80\n",
      "17/17 [==============================] - 1s 36ms/step - loss: 0.7795 - accuracy: 0.7747 - val_loss: 0.7934 - val_accuracy: 0.7674\n",
      "Epoch 67/80\n",
      "17/17 [==============================] - 4s 255ms/step - loss: 0.7719 - accuracy: 0.7780 - val_loss: 0.7848 - val_accuracy: 0.7704\n",
      "Epoch 68/80\n",
      "17/17 [==============================] - 1s 37ms/step - loss: 0.7698 - accuracy: 0.7773 - val_loss: 0.7791 - val_accuracy: 0.7711\n",
      "Epoch 69/80\n",
      "17/17 [==============================] - 4s 259ms/step - loss: 0.7688 - accuracy: 0.7770 - val_loss: 0.7988 - val_accuracy: 0.7607\n",
      "Epoch 70/80\n",
      "17/17 [==============================] - 4s 273ms/step - loss: 0.7722 - accuracy: 0.7745 - val_loss: 0.7790 - val_accuracy: 0.7690\n",
      "Epoch 71/80\n",
      "17/17 [==============================] - 1s 37ms/step - loss: 0.7607 - accuracy: 0.7788 - val_loss: 0.7734 - val_accuracy: 0.7713\n",
      "Epoch 72/80\n",
      "17/17 [==============================] - 4s 252ms/step - loss: 0.7579 - accuracy: 0.7789 - val_loss: 0.7659 - val_accuracy: 0.7730\n",
      "Epoch 73/80\n",
      "17/17 [==============================] - 1s 35ms/step - loss: 0.7554 - accuracy: 0.7792 - val_loss: 0.7693 - val_accuracy: 0.7697\n",
      "Epoch 74/80\n",
      "17/17 [==============================] - 1s 35ms/step - loss: 0.7574 - accuracy: 0.7768 - val_loss: 0.7672 - val_accuracy: 0.7712\n",
      "Epoch 75/80\n",
      "17/17 [==============================] - 1s 37ms/step - loss: 0.7598 - accuracy: 0.7750 - val_loss: 0.7768 - val_accuracy: 0.7654\n",
      "Epoch 76/80\n",
      "17/17 [==============================] - 1s 37ms/step - loss: 0.7552 - accuracy: 0.7764 - val_loss: 0.7695 - val_accuracy: 0.7687\n",
      "Epoch 77/80\n",
      "17/17 [==============================] - 1s 36ms/step - loss: 0.7510 - accuracy: 0.7785 - val_loss: 0.7638 - val_accuracy: 0.7700\n",
      "Epoch 78/80\n",
      "17/17 [==============================] - 1s 36ms/step - loss: 0.7729 - accuracy: 0.7670 - val_loss: 0.7899 - val_accuracy: 0.7573\n",
      "Epoch 79/80\n",
      "17/17 [==============================] - 1s 36ms/step - loss: 0.7658 - accuracy: 0.7701 - val_loss: 0.7618 - val_accuracy: 0.7695\n",
      "Epoch 80/80\n",
      "17/17 [==============================] - 1s 36ms/step - loss: 0.7495 - accuracy: 0.7764 - val_loss: 0.7590 - val_accuracy: 0.7696\n"
     ]
    }
   ],
   "source": [
    "from keras.callbacks import EarlyStopping\n",
    "\n",
    "print(df.shape)\n",
    "early_stop = EarlyStopping(monitor='val_loss', patience=3)\n",
    "history = model.fit(df.values, y_train, validation_split=0.25, epochs=80, batch_size=10_000\n",
    "              #callbacks =[early_stop]\n",
    "                    )"
   ],
   "metadata": {
    "collapsed": false,
    "pycharm": {
     "name": "#%%\n"
    }
   }
  },
  {
   "cell_type": "code",
   "execution_count": 24,
   "outputs": [
    {
     "data": {
      "text/plain": "<matplotlib.legend.Legend at 0x1bd73dd8c40>"
     },
     "execution_count": 24,
     "metadata": {},
     "output_type": "execute_result"
    },
    {
     "data": {
      "text/plain": "<Figure size 432x288 with 1 Axes>",
      "image/png": "[encoded data removed]"
     },
     "metadata": {
      "needs_background": "light"
     },
     "output_type": "display_data"
    }
   ],
   "source": [
    "\n",
    "\n",
    "plt.plot(history.history['accuracy'])\n",
    "plt.plot(history.history['val_loss'])\n",
    "plt.title('Accuracy')\n",
    "plt.xlabel('epoch')\n",
    "plt.ylabel('acc')\n",
    "plt.legend(['Train', 'Val'], loc='upper left')"
   ],
   "metadata": {
    "collapsed": false,
    "pycharm": {
     "name": "#%%\n"
    }
   }
  },
  {
   "cell_type": "code",
   "execution_count": 25,
   "outputs": [
    {
     "name": "stdout",
     "output_type": "stream",
     "text": [
      "INFO:tensorflow:Assets written to: models/v6\\assets\n"
     ]
    }
   ],
   "source": [
    "model.save('models/v6')"
   ],
   "metadata": {
    "collapsed": false,
    "pycharm": {
     "name": "#%%\n"
    }
   }
  }
 ],
 "metadata": {
  "kernelspec": {
   "display_name": "Python 3 (ipykernel)",
   "language": "python",
   "name": "python3"
  },
  "language_info": {
   "codemirror_mode": {
    "name": "ipython",
    "version": 3
   },
   "file_extension": ".py",
   "mimetype": "text/x-python",
   "name": "python",
   "nbconvert_exporter": "python",
   "pygments_lexer": "ipython3",
   "version": "3.9.7"
  }
 },
 "nbformat": 4,
 "nbformat_minor": 2
}