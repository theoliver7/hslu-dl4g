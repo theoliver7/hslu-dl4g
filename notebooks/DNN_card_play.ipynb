{
 "cells": [
  {
   "cell_type": "markdown",
   "metadata": {
    "pycharm": {
     "name": "#%% md\n"
    }
   },
   "source": [
    "# Notebook to train a DNN for card play\n",
    "\n",
    "### Libraries\n",
    "\n",
    "We use the keras library for building, training and evaluating the network. A tutorial for keras can be found on (https://keras.io/) or https://www.tensorflow.org/guide/keras. There are different implementations of keras, here I will use the one build on tensorflow.\n"
   ]
  },
  {
   "cell_type": "code",
   "execution_count": 50,
   "outputs": [],
   "source": [
    "import numpy as np\n",
    "import pandas as pd\n",
    "import tensorflow as tf\n",
    "from tensorflow import keras\n",
    "from matplotlib import pyplot as plt"
   ],
   "metadata": {
    "collapsed": false,
    "pycharm": {
     "name": "#%%\n"
    }
   }
  },
  {
   "cell_type": "markdown",
   "source": [
    "Create dataframe with all the better than average player"
   ],
   "metadata": {
    "collapsed": false
   }
  },
  {
   "cell_type": "code",
   "execution_count": 66,
   "outputs": [
    {
     "data": {
      "text/plain": "(55, 4)"
     },
     "execution_count": 66,
     "metadata": {},
     "output_type": "execute_result"
    }
   ],
   "source": [
    "df_stat = pd.read_json(\"data/stat/player_all_stat.json\")\n",
    "df_stat = df_stat.sort_values(by='mean', ascending=False)\n",
    "mean = df_stat['mean'].mean()\n",
    "df_stat = df_stat.drop(df_stat[df_stat['mean'] < mean+20].index)\n",
    "df_stat.shape"
   ],
   "metadata": {
    "collapsed": false,
    "pycharm": {
     "name": "#%%\n"
    }
   }
  },
  {
   "cell_type": "code",
   "execution_count": 68,
   "outputs": [
    {
     "name": "stdout",
     "output_type": "stream",
     "text": [
      "['DA' 'DK' 'DQ' 'DJ' 'D10' 'D9' 'D8' 'D7' 'D6' 'HA' 'HK' 'HQ' 'HJ' 'H10'\n",
      " 'H9' 'H8' 'H7' 'H6' 'SA' 'SK' 'SQ' 'SJ' 'S10' 'S9' 'S8' 'S7' 'S6' 'CA'\n",
      " 'CK' 'CQ' 'CJ' 'C10' 'C9' 'C8' 'C7' 'C6' 'FH' 'trump']\n"
     ]
    }
   ],
   "source": [
    "cards = [\n",
    "    # Diamonds\n",
    "    'DA', 'DK', 'DQ', 'DJ', 'D10', 'D9', 'D8', 'D7', 'D6',\n",
    "    # Hearts\n",
    "    'HA', 'HK', 'HQ', 'HJ', 'H10', 'H9', 'H8', 'H7', 'H6',\n",
    "    # Spades\n",
    "    'SA', 'SK', 'SQ', 'SJ', 'S10', 'S9', 'S8', 'S7', 'S6',\n",
    "    # Clubs\n",
    "    'CA', 'CK', 'CQ', 'CJ', 'C10', 'C9', 'C8', 'C7', 'C6'\n",
    "]\n",
    "\n",
    "forehand = ['FH']\n",
    "\n",
    "user = ['user']\n",
    "trump = ['trump']\n",
    "cols = np.concatenate([cards,forehand,trump])\n",
    "print(cols)\n",
    "df = pd.DataFrame(columns=cols)"
   ],
   "metadata": {
    "collapsed": false,
    "pycharm": {
     "name": "#%%\n"
    }
   }
  },
  {
   "cell_type": "code",
   "execution_count": 53,
   "outputs": [],
   "source": [
    "# import os\n",
    "# from jass.logs.game_obs_action_log_entry import GameObsActionLogEntry\n",
    "# import json\n",
    "#\n",
    "# for file in os.listdir('C:/dev/git/dl4g/notebooks/data/games/trump'):\n",
    "#     with open(\"C:/dev/git/dl4g/notebooks/data/games/trump/\"+file, \"r\") as file:\n",
    "#         lines = file.readlines()\n",
    "#\n",
    "#         for line in lines:\n",
    "#             line = json.loads(line.strip())\n",
    "#             obs_log = GameObsActionLogEntry.from_json(line)\n",
    "#\n",
    "#             if obs_log.player_id in df_stat[\"id\"]:\n",
    "#                 row = np.concatenate([obs_log.obs.hand,[obs_log.obs.forehand],[obs_log.action]])\n",
    "#                 df.loc[len(df.index)] =row\n",
    "#\n",
    "#\n",
    "#\n",
    "# df.head()"
   ],
   "metadata": {
    "collapsed": false,
    "pycharm": {
     "name": "#%%\n"
    }
   }
  },
  {
   "cell_type": "code",
   "execution_count": 69,
   "outputs": [
    {
     "name": "stdout",
     "output_type": "stream",
     "text": [
      "(549401, 39)\n",
      "10    207482\n",
      "5      66221\n",
      "2      61294\n",
      "3      61157\n",
      "4      54032\n",
      "1      50315\n",
      "0      48900\n",
      "Name: trump, dtype: int64\n"
     ]
    }
   ],
   "source": [
    "#df.to_pickle(\"trump_df.pkl\") #read with\n",
    "df = pd.read_pickle(\"trump_df22.pkl\")\n",
    "print(df.shape)\n",
    "print(df['trump'].value_counts())"
   ],
   "metadata": {
    "collapsed": false,
    "pycharm": {
     "name": "#%%\n"
    }
   }
  },
  {
   "cell_type": "code",
   "execution_count": 70,
   "outputs": [
    {
     "name": "stdout",
     "output_type": "stream",
     "text": [
      "10    207482\n",
      "5      66221\n",
      "2      61294\n",
      "3      61157\n",
      "4      54032\n",
      "1      50315\n",
      "0      48900\n",
      "Name: trump, dtype: int64\n",
      "10    206972\n",
      "5      65995\n",
      "2      61135\n",
      "3      60986\n",
      "4      53799\n",
      "1      50209\n",
      "0      48787\n",
      "Name: trump, dtype: int64\n"
     ]
    }
   ],
   "source": [
    "print(df['trump'].value_counts())\n",
    "df = df[~df.id.isin(df_stat.id.index)]\n",
    "print(df['trump'].value_counts())"
   ],
   "metadata": {
    "collapsed": false,
    "pycharm": {
     "name": "#%%\n"
    }
   }
  },
  {
   "cell_type": "code",
   "execution_count": 71,
   "outputs": [
    {
     "name": "stdout",
     "output_type": "stream",
     "text": [
      "  DA DK DQ DJ D10 D9 D8 D7 D6 HA  ... CQ CJ C10 C9 C8 C7 C6  FH trump id\n",
      "0  0  1  0  0   0  0  0  0  0  0  ...  1  1   1  0  0  0  1   0     3  0\n",
      "1  0  1  0  1   0  0  1  0  0  0  ...  0  0   0  0  0  0  0  -1    10  0\n",
      "2  0  0  0  0   1  0  1  0  1  0  ...  1  0   0  0  0  0  1   0     1  0\n",
      "3  1  0  0  1   1  1  0  0  1  0  ...  0  0   0  0  1  0  0   0     0  0\n",
      "4  0  0  1  0   1  0  0  1  0  0  ...  0  0   0  0  1  1  1   0     5  0\n",
      "\n",
      "[5 rows x 39 columns]\n",
      "10    66972\n",
      "5     65995\n",
      "2     61135\n",
      "3     60986\n",
      "4     53799\n",
      "1     50209\n",
      "0     48787\n",
      "Name: trump, dtype: int64\n"
     ]
    }
   ],
   "source": [
    "df = df.sort_values(by='trump')\n",
    "df\n",
    "df.drop(df.tail(140_000).index, inplace = True)\n",
    "df = df.sample(frac=1).reset_index(drop=True)\n",
    "print(df.head())\n",
    "print(df['trump'].value_counts())"
   ],
   "metadata": {
    "collapsed": false,
    "pycharm": {
     "name": "#%%\n"
    }
   }
  },
  {
   "cell_type": "code",
   "execution_count": 72,
   "outputs": [
    {
     "name": "stdout",
     "output_type": "stream",
     "text": [
      "[3, 6, 1, 0, 5, 2, 4]\n",
      "Categories (7, int64): [0, 1, 2, 3, 4, 5, 6]\n",
      "      DA     DK     DQ     DJ    D10     D9     D8     D7     D6     HA  ...  \\\n",
      "0  False   True  False  False  False  False  False  False  False  False  ...   \n",
      "1  False   True  False   True  False  False   True  False  False  False  ...   \n",
      "2  False  False  False  False   True  False   True  False   True  False  ...   \n",
      "3   True  False  False   True   True   True  False  False   True  False  ...   \n",
      "4  False  False   True  False   True  False  False   True  False  False  ...   \n",
      "\n",
      "      CA     CK     CQ     CJ    C10     C9     C8     C7     C6     FH  \n",
      "0  False  False   True   True   True  False  False  False   True  False  \n",
      "1  False  False  False  False  False  False  False  False  False   True  \n",
      "2  False  False   True  False  False  False  False  False   True  False  \n",
      "3  False   True  False  False  False  False   True  False  False  False  \n",
      "4  False  False  False  False  False  False   True   True   True  False  \n",
      "\n",
      "[5 rows x 37 columns]\n"
     ]
    },
    {
     "name": "stderr",
     "output_type": "stream",
     "text": [
      "C:\\Users\\olive_000\\anaconda3\\envs\\adml\\lib\\site-packages\\pandas\\core\\arrays\\categorical.py:2631: FutureWarning: The `inplace` parameter in pandas.Categorical.rename_categories is deprecated and will be removed in a future version. Removing unused categories will always return a new Categorical object.\n",
      "  res = method(*args, **kwargs)\n"
     ]
    }
   ],
   "source": [
    "df.trump = df.trump.astype('category')\n",
    "df[cards + forehand] = df[cards + forehand].astype(bool)\n",
    "df.trump.cat.rename_categories({10: 6}, inplace=True)\n",
    "\n",
    "df.head()\n",
    "\n",
    "df.trump.value_counts()\n",
    "trump = df.pop('trump')\n",
    "df.pop('id')\n",
    "print(trump.unique())\n",
    "y_train = tf.keras.utils.to_categorical(trump)\n",
    "\n",
    "print(df.head())"
   ],
   "metadata": {
    "collapsed": false,
    "pycharm": {
     "name": "#%%\n"
    }
   }
  },
  {
   "cell_type": "code",
   "execution_count": 73,
   "outputs": [],
   "source": [
    "from tensorflow.keras import regularizers\n",
    "model = keras.Sequential()\n",
    "model.add(keras.layers.Dense(37, activation='relu', input_shape=[37]))\n",
    "model.add(keras.layers.Dense(300, activation=\"relu\"\n",
    ",kernel_regularizer=regularizers.l2(0.001)))\n",
    "# model.add(tf.keras.layers.Dropout(0.3)),\n",
    "model.add(keras.layers.Dense(300, activation=\"relu\"\n",
    ",kernel_regularizer=regularizers.l2(0.001)))\n",
    "# model.add(tf.keras.layers.Dropout(0.3)),\n",
    "model.add(keras.layers.Dense(300, activation=\"relu\"\n",
    ",kernel_regularizer=regularizers.l2(0.001)))\n",
    "# model.add(tf.keras.layers.Dropout(0.3)),\n",
    "model.add(keras.layers.Dense(300, activation=\"relu\"\n",
    ",kernel_regularizer=regularizers.l2(0.001)))\n",
    "# model.add(tf.keras.layers.Dropout(0.3)),\n",
    "model.add(keras.layers.Dense(300, activation=\"relu\"\n",
    ",kernel_regularizer=regularizers.l2(0.001)))\n",
    "# model.add(tf.keras.layers.Dropout(0.3)),\n",
    "model.add(keras.layers.Dense(300, activation=\"relu\"\n",
    ",kernel_regularizer=regularizers.l2(0.001)))\n",
    "# model.add(tf.keras.layers.Dropout(0.3)),\n",
    "model.add(keras.layers.Dense(300, activation=\"relu\"\n",
    ",kernel_regularizer=regularizers.l2(0.001)))\n",
    "model.add(keras.layers.Dense(300, activation=\"relu\"\n",
    ",kernel_regularizer=regularizers.l2(0.001)))\n",
    "\n",
    "model.add(keras.layers.Dense(7, activation='softmax'))\n",
    "\n",
    "\n",
    "lr_schedule = tf.keras.optimizers.schedules.InverseTimeDecay(\n",
    "  0.001,\n",
    "  decay_steps=len(df)*1000,\n",
    "  decay_rate=1,\n",
    "  staircase=False)\n",
    "\n",
    "\n",
    "\n",
    "model.compile(loss='categorical_crossentropy',\n",
    "              optimizer=tf.keras.optimizers.Adam(learning_rate = lr_schedule),\n",
    "              metrics=['accuracy'])"
   ],
   "metadata": {
    "collapsed": false,
    "pycharm": {
     "name": "#%%\n"
    }
   }
  },
  {
   "cell_type": "code",
   "execution_count": 74,
   "outputs": [
    {
     "name": "stdout",
     "output_type": "stream",
     "text": [
      "(407883, 37)\n",
      "Epoch 1/80\n",
      "31/31 [==============================] - 2s 43ms/step - loss: 3.2373 - accuracy: 0.3212 - val_loss: 2.5297 - val_accuracy: 0.4436\n",
      "Epoch 2/80\n",
      "31/31 [==============================] - 1s 36ms/step - loss: 2.1922 - accuracy: 0.5036 - val_loss: 1.8900 - val_accuracy: 0.5672\n",
      "Epoch 3/80\n",
      "31/31 [==============================] - 1s 36ms/step - loss: 1.6988 - accuracy: 0.6117 - val_loss: 1.5286 - val_accuracy: 0.6529\n",
      "Epoch 4/80\n",
      "31/31 [==============================] - 1s 36ms/step - loss: 1.4369 - accuracy: 0.6776 - val_loss: 1.3596 - val_accuracy: 0.6953\n",
      "Epoch 5/80\n",
      "31/31 [==============================] - 1s 37ms/step - loss: 1.3138 - accuracy: 0.7071 - val_loss: 1.2639 - val_accuracy: 0.7176\n",
      "Epoch 6/80\n",
      "31/31 [==============================] - 1s 36ms/step - loss: 1.2291 - accuracy: 0.7253 - val_loss: 1.2154 - val_accuracy: 0.7191\n",
      "Epoch 7/80\n",
      "31/31 [==============================] - 1s 36ms/step - loss: 1.1718 - accuracy: 0.7347 - val_loss: 1.1541 - val_accuracy: 0.7356\n",
      "Epoch 8/80\n",
      "31/31 [==============================] - 1s 36ms/step - loss: 1.1453 - accuracy: 0.7355 - val_loss: 1.1232 - val_accuracy: 0.7408\n",
      "Epoch 9/80\n",
      "31/31 [==============================] - 1s 35ms/step - loss: 1.0960 - accuracy: 0.7465 - val_loss: 1.0856 - val_accuracy: 0.7446\n",
      "Epoch 10/80\n",
      "31/31 [==============================] - 1s 35ms/step - loss: 1.0647 - accuracy: 0.7497 - val_loss: 1.0539 - val_accuracy: 0.7489\n",
      "Epoch 11/80\n",
      "31/31 [==============================] - 1s 35ms/step - loss: 1.0375 - accuracy: 0.7529 - val_loss: 1.0258 - val_accuracy: 0.7543\n",
      "Epoch 12/80\n",
      "31/31 [==============================] - 1s 35ms/step - loss: 1.0084 - accuracy: 0.7572 - val_loss: 1.0082 - val_accuracy: 0.7534\n",
      "Epoch 13/80\n",
      "31/31 [==============================] - 1s 36ms/step - loss: 0.9869 - accuracy: 0.7596 - val_loss: 0.9888 - val_accuracy: 0.7555\n",
      "Epoch 14/80\n",
      "31/31 [==============================] - 1s 35ms/step - loss: 0.9692 - accuracy: 0.7605 - val_loss: 0.9734 - val_accuracy: 0.7535\n",
      "Epoch 15/80\n",
      "31/31 [==============================] - 1s 36ms/step - loss: 0.9521 - accuracy: 0.7618 - val_loss: 0.9642 - val_accuracy: 0.7538\n",
      "Epoch 16/80\n",
      "31/31 [==============================] - 1s 36ms/step - loss: 0.9454 - accuracy: 0.7588 - val_loss: 0.9406 - val_accuracy: 0.7581\n",
      "Epoch 17/80\n",
      "31/31 [==============================] - 1s 36ms/step - loss: 0.9217 - accuracy: 0.7642 - val_loss: 0.9208 - val_accuracy: 0.7610\n",
      "Epoch 18/80\n",
      "31/31 [==============================] - 1s 37ms/step - loss: 0.9036 - accuracy: 0.7666 - val_loss: 0.9035 - val_accuracy: 0.7623\n",
      "Epoch 19/80\n",
      "31/31 [==============================] - 1s 36ms/step - loss: 0.8998 - accuracy: 0.7637 - val_loss: 0.9118 - val_accuracy: 0.7547\n",
      "Epoch 20/80\n",
      "31/31 [==============================] - 1s 36ms/step - loss: 0.8807 - accuracy: 0.7666 - val_loss: 0.8875 - val_accuracy: 0.7610\n",
      "Epoch 21/80\n",
      "31/31 [==============================] - 1s 36ms/step - loss: 0.8698 - accuracy: 0.7675 - val_loss: 0.8735 - val_accuracy: 0.7624\n",
      "Epoch 22/80\n",
      "31/31 [==============================] - 1s 35ms/step - loss: 0.8629 - accuracy: 0.7671 - val_loss: 0.8811 - val_accuracy: 0.7558\n",
      "Epoch 23/80\n",
      "31/31 [==============================] - 1s 35ms/step - loss: 0.8514 - accuracy: 0.7682 - val_loss: 0.8517 - val_accuracy: 0.7645\n",
      "Epoch 24/80\n",
      "31/31 [==============================] - 1s 36ms/step - loss: 0.8445 - accuracy: 0.7675 - val_loss: 0.8475 - val_accuracy: 0.7628\n",
      "Epoch 25/80\n",
      "31/31 [==============================] - 1s 36ms/step - loss: 0.8388 - accuracy: 0.7669 - val_loss: 0.8534 - val_accuracy: 0.7552\n",
      "Epoch 26/80\n",
      "31/31 [==============================] - 1s 36ms/step - loss: 0.8280 - accuracy: 0.7684 - val_loss: 0.8267 - val_accuracy: 0.7663\n",
      "Epoch 27/80\n",
      "31/31 [==============================] - 1s 37ms/step - loss: 0.8158 - accuracy: 0.7706 - val_loss: 0.8183 - val_accuracy: 0.7668\n",
      "Epoch 28/80\n",
      "31/31 [==============================] - 1s 35ms/step - loss: 0.8107 - accuracy: 0.7695 - val_loss: 0.8365 - val_accuracy: 0.7572\n",
      "Epoch 29/80\n",
      "31/31 [==============================] - 1s 36ms/step - loss: 0.8067 - accuracy: 0.7690 - val_loss: 0.8091 - val_accuracy: 0.7663\n",
      "Epoch 30/80\n",
      "31/31 [==============================] - 1s 36ms/step - loss: 0.7991 - accuracy: 0.7693 - val_loss: 0.8009 - val_accuracy: 0.7661\n",
      "Epoch 31/80\n",
      "31/31 [==============================] - 1s 35ms/step - loss: 0.7882 - accuracy: 0.7724 - val_loss: 0.7893 - val_accuracy: 0.7696\n",
      "Epoch 32/80\n",
      "31/31 [==============================] - 1s 35ms/step - loss: 0.7881 - accuracy: 0.7695 - val_loss: 0.7862 - val_accuracy: 0.7679\n",
      "Epoch 33/80\n",
      "31/31 [==============================] - 1s 35ms/step - loss: 0.7833 - accuracy: 0.7701 - val_loss: 0.7890 - val_accuracy: 0.7653\n",
      "Epoch 34/80\n",
      "31/31 [==============================] - 1s 36ms/step - loss: 0.7792 - accuracy: 0.7695 - val_loss: 0.8029 - val_accuracy: 0.7570\n",
      "Epoch 35/80\n",
      "31/31 [==============================] - 1s 36ms/step - loss: 0.7793 - accuracy: 0.7682 - val_loss: 0.7890 - val_accuracy: 0.7629\n"
     ]
    }
   ],
   "source": [
    "from keras.callbacks import EarlyStopping\n",
    "\n",
    "print(df.shape)\n",
    "early_stop = EarlyStopping(monitor='val_loss', patience=3)\n",
    "history = model.fit(df.values, y_train, validation_split=0.25, epochs=80, batch_size=10_000,\n",
    "              callbacks =[early_stop]\n",
    "                    )"
   ],
   "metadata": {
    "collapsed": false,
    "pycharm": {
     "name": "#%%\n"
    }
   }
  },
  {
   "cell_type": "code",
   "execution_count": 75,
   "outputs": [
    {
     "data": {
      "text/plain": "<matplotlib.legend.Legend at 0x250572643d0>"
     },
     "execution_count": 75,
     "metadata": {},
     "output_type": "execute_result"
    },
    {
     "data": {
      "text/plain": "<Figure size 432x288 with 1 Axes>",
      "image/png": "[encoded data removed]"
     },
     "metadata": {
      "needs_background": "light"
     },
     "output_type": "display_data"
    }
   ],
   "source": [
    "\n",
    "\n",
    "plt.plot(history.history['accuracy'])\n",
    "plt.plot(history.history['val_loss'])\n",
    "plt.title('Accuracy')\n",
    "plt.xlabel('epoch')\n",
    "plt.ylabel('acc')\n",
    "plt.legend(['Train', 'Val'], loc='upper left')"
   ],
   "metadata": {
    "collapsed": false,
    "pycharm": {
     "name": "#%%\n"
    }
   }
  },
  {
   "cell_type": "code",
   "execution_count": 76,
   "outputs": [
    {
     "name": "stdout",
     "output_type": "stream",
     "text": [
      "INFO:tensorflow:Assets written to: models/v8\\assets\n"
     ]
    }
   ],
   "source": [
    "model.save('models/v8')"
   ],
   "metadata": {
    "collapsed": false,
    "pycharm": {
     "name": "#%%\n"
    }
   }
  },
  {
   "cell_type": "code",
   "execution_count": null,
   "outputs": [],
   "source": [],
   "metadata": {
    "collapsed": false,
    "pycharm": {
     "name": "#%%\n"
    }
   }
  }
 ],
 "metadata": {
  "kernelspec": {
   "display_name": "Python 3 (ipykernel)",
   "language": "python",
   "name": "python3"
  },
  "language_info": {
   "codemirror_mode": {
    "name": "ipython",
    "version": 3
   },
   "file_extension": ".py",
   "mimetype": "text/x-python",
   "name": "python",
   "nbconvert_exporter": "python",
   "pygments_lexer": "ipython3",
   "version": "3.9.7"
  }
 },
 "nbformat": 4,
 "nbformat_minor": 2
}