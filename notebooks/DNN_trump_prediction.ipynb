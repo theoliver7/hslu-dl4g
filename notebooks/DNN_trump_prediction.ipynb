{
 "cells": [
  {
   "cell_type": "markdown",
   "metadata": {},
   "source": [
    "# Notebook to train a DNN for trump selection\n",
    "\n",
    "### Libraries\n",
    "\n",
    "We use the keras library for building, training and evaluating the network. A tutorial for keras can be found on (https://keras.io/) or https://www.tensorflow.org/guide/keras. There are different implementations of keras, here I will use the one build on tensorflow.\n"
   ]
  },
  {
   "cell_type": "code",
   "execution_count": 1,
   "metadata": {},
   "outputs": [],
   "source": [
    "import numpy as np\n",
    "import tensorflow as tf\n",
    "import pandas as pd\n",
    "import matplotlib.pyplot as plt\n",
    "from pathlib import Path\n",
    "from tensorflow import keras\n",
    "from tensorflow.keras.callbacks import EarlyStopping"
   ]
  },
  {
   "cell_type": "code",
   "execution_count": 10,
   "metadata": {},
   "outputs": [
    {
     "name": "stdout",
     "output_type": "stream",
     "text": [
      "[6, 5, 4, 1, 0, 2, 3]\n",
      "Categories (7, int64): [6, 5, 4, 1, 0, 2, 3]\n",
      "(359825, 7)\n"
     ]
    }
   ],
   "source": [
    "\n",
    "path_to_data = Path('data')\n",
    "# Import only a fraction of data for efficient testing\n",
    "data = pd.read_csv(path_to_data / '2018_10_18_trump.csv', header=None)\n",
    "cards = [\n",
    "# Diamonds\n",
    "'DA','DK','DQ','DJ','D10','D9','D8','D7','D6',\n",
    "# Hearts\n",
    "'HA','HK','HQ','HJ','H10','H9','H8','H7','H6',\n",
    "# Spades\n",
    "'SA','SK','SQ','SJ','S10','S9','S8','S7','S6',\n",
    "# Clubs\n",
    "'CA','CK','CQ','CJ','C10','C9','C8','C7','C6'\n",
    "]\n",
    "\n",
    "# Forehand (yes = 1, no = 0)\n",
    "forehand = ['FH']\n",
    "\n",
    "user  = ['user']\n",
    "trump = ['trump']\n",
    "\n",
    "data.columns = cards + forehand + user + trump\n",
    "data.drop('user', axis='columns', inplace=True)\n",
    "\n",
    "data.trump = data.trump.astype('category')\n",
    "data[cards + forehand] = data[cards + forehand].astype(bool)\n",
    "#data.trump.cat.rename_categories({6: 10}, inplace=True)\n",
    "\n",
    "data.head()\n",
    "\n",
    "data.trump.value_counts()\n",
    "trump = data.pop('trump')\n",
    "print(trump.unique())\n",
    "y_train = tf.keras.utils.to_categorical(trump)\n",
    "\n",
    "    \n",
    "    # Exercise: Add other features here such as the combination of Ace-King-Queen (Dreiblatt).\n",
    "\n",
    "print(y_train.shape)"
   ]
  },
  {
   "cell_type": "code",
   "execution_count": 3,
   "metadata": {},
   "outputs": [
    {
     "data": {
      "text/html": [
       "<div>\n",
       "<style scoped>\n",
       "    .dataframe tbody tr th:only-of-type {\n",
       "        vertical-align: middle;\n",
       "    }\n",
       "\n",
       "    .dataframe tbody tr th {\n",
       "        vertical-align: top;\n",
       "    }\n",
       "\n",
       "    .dataframe thead th {\n",
       "        text-align: right;\n",
       "    }\n",
       "</style>\n",
       "<table border=\"1\" class=\"dataframe\">\n",
       "  <thead>\n",
       "    <tr style=\"text-align: right;\">\n",
       "      <th></th>\n",
       "      <th>DA</th>\n",
       "      <th>DK</th>\n",
       "      <th>DQ</th>\n",
       "      <th>DJ</th>\n",
       "      <th>D10</th>\n",
       "      <th>D9</th>\n",
       "      <th>D8</th>\n",
       "      <th>D7</th>\n",
       "      <th>D6</th>\n",
       "      <th>HA</th>\n",
       "      <th>...</th>\n",
       "      <th>CA</th>\n",
       "      <th>CK</th>\n",
       "      <th>CQ</th>\n",
       "      <th>CJ</th>\n",
       "      <th>C10</th>\n",
       "      <th>C9</th>\n",
       "      <th>C8</th>\n",
       "      <th>C7</th>\n",
       "      <th>C6</th>\n",
       "      <th>FH</th>\n",
       "    </tr>\n",
       "  </thead>\n",
       "  <tbody>\n",
       "    <tr>\n",
       "      <th>0</th>\n",
       "      <td>False</td>\n",
       "      <td>False</td>\n",
       "      <td>False</td>\n",
       "      <td>True</td>\n",
       "      <td>True</td>\n",
       "      <td>False</td>\n",
       "      <td>True</td>\n",
       "      <td>True</td>\n",
       "      <td>False</td>\n",
       "      <td>False</td>\n",
       "      <td>...</td>\n",
       "      <td>False</td>\n",
       "      <td>False</td>\n",
       "      <td>True</td>\n",
       "      <td>False</td>\n",
       "      <td>False</td>\n",
       "      <td>False</td>\n",
       "      <td>True</td>\n",
       "      <td>False</td>\n",
       "      <td>False</td>\n",
       "      <td>False</td>\n",
       "    </tr>\n",
       "    <tr>\n",
       "      <th>1</th>\n",
       "      <td>False</td>\n",
       "      <td>False</td>\n",
       "      <td>False</td>\n",
       "      <td>False</td>\n",
       "      <td>False</td>\n",
       "      <td>False</td>\n",
       "      <td>False</td>\n",
       "      <td>False</td>\n",
       "      <td>True</td>\n",
       "      <td>True</td>\n",
       "      <td>...</td>\n",
       "      <td>False</td>\n",
       "      <td>False</td>\n",
       "      <td>False</td>\n",
       "      <td>True</td>\n",
       "      <td>False</td>\n",
       "      <td>False</td>\n",
       "      <td>False</td>\n",
       "      <td>True</td>\n",
       "      <td>False</td>\n",
       "      <td>False</td>\n",
       "    </tr>\n",
       "    <tr>\n",
       "      <th>2</th>\n",
       "      <td>True</td>\n",
       "      <td>False</td>\n",
       "      <td>False</td>\n",
       "      <td>True</td>\n",
       "      <td>False</td>\n",
       "      <td>False</td>\n",
       "      <td>False</td>\n",
       "      <td>False</td>\n",
       "      <td>False</td>\n",
       "      <td>False</td>\n",
       "      <td>...</td>\n",
       "      <td>False</td>\n",
       "      <td>False</td>\n",
       "      <td>True</td>\n",
       "      <td>False</td>\n",
       "      <td>False</td>\n",
       "      <td>False</td>\n",
       "      <td>False</td>\n",
       "      <td>True</td>\n",
       "      <td>True</td>\n",
       "      <td>False</td>\n",
       "    </tr>\n",
       "    <tr>\n",
       "      <th>3</th>\n",
       "      <td>False</td>\n",
       "      <td>False</td>\n",
       "      <td>False</td>\n",
       "      <td>False</td>\n",
       "      <td>False</td>\n",
       "      <td>False</td>\n",
       "      <td>False</td>\n",
       "      <td>False</td>\n",
       "      <td>False</td>\n",
       "      <td>True</td>\n",
       "      <td>...</td>\n",
       "      <td>True</td>\n",
       "      <td>False</td>\n",
       "      <td>False</td>\n",
       "      <td>False</td>\n",
       "      <td>True</td>\n",
       "      <td>True</td>\n",
       "      <td>False</td>\n",
       "      <td>False</td>\n",
       "      <td>False</td>\n",
       "      <td>False</td>\n",
       "    </tr>\n",
       "    <tr>\n",
       "      <th>4</th>\n",
       "      <td>False</td>\n",
       "      <td>True</td>\n",
       "      <td>False</td>\n",
       "      <td>False</td>\n",
       "      <td>False</td>\n",
       "      <td>False</td>\n",
       "      <td>False</td>\n",
       "      <td>False</td>\n",
       "      <td>True</td>\n",
       "      <td>True</td>\n",
       "      <td>...</td>\n",
       "      <td>False</td>\n",
       "      <td>False</td>\n",
       "      <td>False</td>\n",
       "      <td>True</td>\n",
       "      <td>False</td>\n",
       "      <td>False</td>\n",
       "      <td>False</td>\n",
       "      <td>False</td>\n",
       "      <td>False</td>\n",
       "      <td>True</td>\n",
       "    </tr>\n",
       "  </tbody>\n",
       "</table>\n",
       "<p>5 rows × 37 columns</p>\n",
       "</div>"
      ],
      "text/plain": [
       "      DA     DK     DQ     DJ    D10     D9     D8     D7     D6     HA  ...  \\\n",
       "0  False  False  False   True   True  False   True   True  False  False  ...   \n",
       "1  False  False  False  False  False  False  False  False   True   True  ...   \n",
       "2   True  False  False   True  False  False  False  False  False  False  ...   \n",
       "3  False  False  False  False  False  False  False  False  False   True  ...   \n",
       "4  False   True  False  False  False  False  False  False   True   True  ...   \n",
       "\n",
       "      CA     CK     CQ     CJ    C10     C9     C8     C7     C6     FH  \n",
       "0  False  False   True  False  False  False   True  False  False  False  \n",
       "1  False  False  False   True  False  False  False   True  False  False  \n",
       "2  False  False   True  False  False  False  False   True   True  False  \n",
       "3   True  False  False  False   True   True  False  False  False  False  \n",
       "4  False  False  False   True  False  False  False  False  False   True  \n",
       "\n",
       "[5 rows x 37 columns]"
      ]
     },
     "execution_count": 3,
     "metadata": {},
     "output_type": "execute_result"
    }
   ],
   "source": [
    "data.head()"
   ]
  },
  {
   "cell_type": "code",
   "execution_count": 6,
   "metadata": {},
   "outputs": [],
   "source": [
    "model = keras.Sequential()\n",
    "model.add(keras.layers.Dense(37, activation='relu', input_shape=[37]))\n",
    "model.add(keras.layers.Dense(37, activation='relu'))\n",
    "model.add(keras.layers.Dense(37, activation='relu'))\n",
    "model.add(keras.layers.Dense(37, activation='relu'))\n",
    "model.add(keras.layers.Dense(37, activation='relu'))\n",
    "model.add(keras.layers.Dense(7, activation='softmax'))\n",
    "\n",
    "\n",
    "\n",
    "model.compile(loss='categorical_crossentropy',\n",
    "              optimizer='adam',\n",
    "              metrics=['accuracy'])"
   ]
  },
  {
   "cell_type": "code",
   "execution_count": 7,
   "metadata": {},
   "outputs": [
    {
     "name": "stdout",
     "output_type": "stream",
     "text": [
      "(359825, 37)\n",
      "Epoch 1/20\n",
      "270/270 [==============================] - 3s 7ms/step - loss: 1.2645 - accuracy: 0.5175 - val_loss: 0.8989 - val_accuracy: 0.6329\n",
      "Epoch 2/20\n",
      "270/270 [==============================] - 2s 6ms/step - loss: 0.8816 - accuracy: 0.6327 - val_loss: 0.8674 - val_accuracy: 0.6409\n",
      "Epoch 3/20\n",
      "270/270 [==============================] - 2s 6ms/step - loss: 0.8525 - accuracy: 0.6388 - val_loss: 0.8431 - val_accuracy: 0.6367\n",
      "Epoch 4/20\n",
      "270/270 [==============================] - 2s 6ms/step - loss: 0.8308 - accuracy: 0.6438 - val_loss: 0.8253 - val_accuracy: 0.6361\n",
      "Epoch 5/20\n",
      "270/270 [==============================] - 2s 6ms/step - loss: 0.8192 - accuracy: 0.6474 - val_loss: 0.8143 - val_accuracy: 0.6530\n",
      "Epoch 6/20\n",
      "270/270 [==============================] - 2s 6ms/step - loss: 0.8114 - accuracy: 0.6500 - val_loss: 0.8101 - val_accuracy: 0.6518\n",
      "Epoch 7/20\n",
      "270/270 [==============================] - 2s 7ms/step - loss: 0.8057 - accuracy: 0.6524 - val_loss: 0.8043 - val_accuracy: 0.6542\n",
      "Epoch 8/20\n",
      "270/270 [==============================] - 2s 6ms/step - loss: 0.8012 - accuracy: 0.6548 - val_loss: 0.7990 - val_accuracy: 0.6483\n",
      "Epoch 9/20\n",
      "270/270 [==============================] - 2s 6ms/step - loss: 0.7979 - accuracy: 0.6565 - val_loss: 0.7987 - val_accuracy: 0.6580\n",
      "Epoch 10/20\n",
      "270/270 [==============================] - 2s 6ms/step - loss: 0.7949 - accuracy: 0.6578 - val_loss: 0.7966 - val_accuracy: 0.6549\n",
      "Epoch 11/20\n",
      "270/270 [==============================] - 2s 6ms/step - loss: 0.7927 - accuracy: 0.6589 - val_loss: 0.7960 - val_accuracy: 0.6512\n",
      "Epoch 12/20\n",
      "270/270 [==============================] - 2s 6ms/step - loss: 0.7904 - accuracy: 0.6598 - val_loss: 0.7905 - val_accuracy: 0.6582\n",
      "Epoch 13/20\n",
      "270/270 [==============================] - 2s 6ms/step - loss: 0.7897 - accuracy: 0.6600 - val_loss: 0.7954 - val_accuracy: 0.6610\n",
      "Epoch 14/20\n",
      "270/270 [==============================] - 2s 6ms/step - loss: 0.7880 - accuracy: 0.6610 - val_loss: 0.7908 - val_accuracy: 0.6581\n",
      "Epoch 15/20\n",
      "270/270 [==============================] - 2s 6ms/step - loss: 0.7874 - accuracy: 0.6610 - val_loss: 0.7906 - val_accuracy: 0.6577\n"
     ]
    }
   ],
   "source": [
    "print(data.shape)\n",
    "early_stop = EarlyStopping(monitor='val_loss', patience=3)\n",
    "history = model.fit(data.values, y_train, validation_split=0.25, epochs=20, batch_size=1000,\n",
    "              callbacks =[early_stop])"
   ]
  },
  {
   "cell_type": "code",
   "execution_count": 8,
   "metadata": {},
   "outputs": [
    {
     "data": {
      "text/plain": [
       "<matplotlib.legend.Legend at 0x24acfcb5c10>"
      ]
     },
     "execution_count": 8,
     "metadata": {},
     "output_type": "execute_result"
    },
    {
     "data": {
      "image/png": "[encoded data removed]",
      "text/plain": [
       "<Figure size 432x288 with 1 Axes>"
      ]
     },
     "metadata": {
      "needs_background": "light"
     },
     "output_type": "display_data"
    }
   ],
   "source": [
    "plt.plot(history.history['accuracy'])\n",
    "plt.plot(history.history['val_loss'])\n",
    "plt.title('Accuracy')\n",
    "plt.xlabel('epoch')\n",
    "plt.ylabel('acc')\n",
    "plt.legend(['Train', 'Val'], loc='upper left')"
   ]
  },
  {
   "cell_type": "code",
   "execution_count": 9,
   "metadata": {},
   "outputs": [
    {
     "name": "stdout",
     "output_type": "stream",
     "text": [
      "INFO:tensorflow:Assets written to: models/v1\\assets\n"
     ]
    }
   ],
   "source": [
    "model.save('models/v1')\n"
   ]
  }
 ],
 "metadata": {
  "kernelspec": {
   "display_name": "Python 3 (ipykernel)",
   "language": "python",
   "name": "python3"
  },
  "language_info": {
   "codemirror_mode": {
    "name": "ipython",
    "version": 3
   },
   "file_extension": ".py",
   "mimetype": "text/x-python",
   "name": "python",
   "nbconvert_exporter": "python",
   "pygments_lexer": "ipython3",
   "version": "3.9.7"
  }
 },
 "nbformat": 4,
 "nbformat_minor": 2
}
