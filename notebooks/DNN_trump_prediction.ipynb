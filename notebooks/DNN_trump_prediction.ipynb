{
 "cells": [
  {
   "cell_type": "markdown",
   "metadata": {},
   "source": [
    "# Notebook to train a DNN for trump selection\n",
    "\n",
    "### Libraries\n",
    "\n",
    "We use the keras library for building, training and evaluating the network. A tutorial for keras can be found on (https://keras.io/) or https://www.tensorflow.org/guide/keras. There are different implementations of keras, here I will use the one build on tensorflow.\n"
   ]
  },
  {
   "cell_type": "code",
   "execution_count": 1,
   "metadata": {},
   "outputs": [],
   "source": [
    "import numpy as np\n",
    "import tensorflow as tf\n",
    "import pandas as pd\n",
    "import matplotlib.pyplot as plt\n",
    "from pathlib import Path\n",
    "from tensorflow import keras\n",
    "from tensorflow.keras.callbacks import EarlyStopping"
   ]
  },
  {
   "cell_type": "code",
   "execution_count": 2,
   "metadata": {},
   "outputs": [
    {
     "name": "stdout",
     "output_type": "stream",
     "text": [
      "Index(['DA', 'DK', 'DQ', 'DJ', 'D10', 'D9', 'D8', 'D7', 'D6', 'HA', 'HK', 'HQ',\n",
      "       'HJ', 'H10', 'H9', 'H8', 'H7', 'H6', 'SA', 'SK', 'SQ', 'SJ', 'S10',\n",
      "       'S9', 'S8', 'S7', 'S6', 'CA', 'CK', 'CQ', 'CJ', 'C10', 'C9', 'C8', 'C7',\n",
      "       'C6', 'FH', 'user', 'trump'],\n",
      "      dtype='object')\n"
     ]
    },
    {
     "data": {
      "text/plain": "6    137553\n5     44653\n2     40115\n3     39756\n4     35829\n1     31087\n0     30831\nName: trump, dtype: int64"
     },
     "execution_count": 2,
     "metadata": {},
     "output_type": "execute_result"
    }
   ],
   "source": [
    "\n",
    "path_to_data = Path('data')\n",
    "# Import only a fraction of data for efficient testing\n",
    "data = pd.read_csv(path_to_data / '2018_10_18_trump.csv', header=None)\n",
    "cards = [\n",
    "# Diamonds\n",
    "'DA','DK','DQ','DJ','D10','D9','D8','D7','D6',\n",
    "# Hearts\n",
    "'HA','HK','HQ','HJ','H10','H9','H8','H7','H6',\n",
    "# Spades\n",
    "'SA','SK','SQ','SJ','S10','S9','S8','S7','S6',\n",
    "# Clubs\n",
    "'CA','CK','CQ','CJ','C10','C9','C8','C7','C6'\n",
    "]\n",
    "\n",
    "# Forehand (yes = 1, no = 0)\n",
    "forehand = ['FH']\n",
    "\n",
    "user  = ['user']\n",
    "trump = ['trump']\n",
    "\n",
    "data.columns = cards + forehand + user + trump\n",
    "print(data.columns)\n",
    "data.drop((data['trump']==6).index[:1],inplace=True)\n",
    "data['trump'].value_counts()"
   ]
  },
  {
   "cell_type": "code",
   "execution_count": 14,
   "metadata": {},
   "outputs": [],
   "source": [
    "#Drop rows where the player didn't play more than 50 games\n",
    "play_count = data['user'].value_counts()\n",
    "data = data[data.user != 0]\n",
    "data = data[~data['user'].isin(play_count[play_count < 1].index)]\n",
    "data['user'].value_counts()\n",
    "data.drop('user', axis='columns', inplace=True)"
   ]
  },
  {
   "cell_type": "code",
   "execution_count": 15,
   "metadata": {},
   "outputs": [
    {
     "data": {
      "text/plain": "6    102362\n5     33192\n2     29467\n3     29209\n4     26467\n0     22352\n1     22320\nName: trump, dtype: int64"
     },
     "execution_count": 15,
     "metadata": {},
     "output_type": "execute_result"
    }
   ],
   "source": [
    "data['trump'].value_counts()"
   ]
  },
  {
   "cell_type": "code",
   "execution_count": 16,
   "metadata": {},
   "outputs": [],
   "source": [
    "\n",
    "# print(data['trump'].value_counts())\n",
    "# data_trump = data.copy([data['trump']==6])\n",
    "# print(data['trump'].value_counts())\n",
    "# data = data[data.trump != 6]\n",
    "#\n",
    "# data_trump.drop(data_trump.index[:15000],inplace = True)\n",
    "#\n",
    "#\n",
    "# data = data.append(data_trump,ignore_index=True)\n",
    "#\n",
    "# print(data['trump'].value_counts())"
   ]
  },
  {
   "cell_type": "code",
   "execution_count": 17,
   "metadata": {},
   "outputs": [
    {
     "name": "stdout",
     "output_type": "stream",
     "text": [
      "[5, 6, 4, 1, 2, 3, 0]\n",
      "Categories (7, int64): [5, 6, 4, 1, 2, 3, 0]\n",
      "(265369, 7)\n"
     ]
    }
   ],
   "source": [
    "data.trump = data.trump.astype('category')\n",
    "data[cards + forehand] = data[cards + forehand].astype(bool)\n",
    "#data.trump.cat.rename_categories({6: 10}, inplace=True)\n",
    "\n",
    "data.head()\n",
    "\n",
    "data.trump.value_counts()\n",
    "trump = data.pop('trump')\n",
    "print(trump.unique())\n",
    "y_train = tf.keras.utils.to_categorical(trump)\n",
    "\n",
    "print(y_train.shape)"
   ]
  },
  {
   "cell_type": "code",
   "execution_count": 18,
   "metadata": {},
   "outputs": [
    {
     "data": {
      "text/plain": "      DA     DK     DQ     DJ    D10     D9     D8     D7     D6     HA  ...  \\\n1  False  False  False  False  False  False  False  False   True   True  ...   \n2   True  False  False   True  False  False  False  False  False  False  ...   \n3  False  False  False  False  False  False  False  False  False   True  ...   \n4  False   True  False  False  False  False  False  False   True   True  ...   \n5  False  False   True  False  False  False   True  False   True  False  ...   \n\n      CA     CK     CQ     CJ    C10     C9     C8     C7     C6     FH  \n1  False  False  False   True  False  False  False   True  False  False  \n2  False  False   True  False  False  False  False   True   True  False  \n3   True  False  False  False   True   True  False  False  False  False  \n4  False  False  False   True  False  False  False  False  False   True  \n5   True  False  False  False  False  False  False  False  False   True  \n\n[5 rows x 37 columns]",
      "text/html": "<div>\n<style scoped>\n    .dataframe tbody tr th:only-of-type {\n        vertical-align: middle;\n    }\n\n    .dataframe tbody tr th {\n        vertical-align: top;\n    }\n\n    .dataframe thead th {\n        text-align: right;\n    }\n</style>\n<table border=\"1\" class=\"dataframe\">\n  <thead>\n    <tr style=\"text-align: right;\">\n      <th></th>\n      <th>DA</th>\n      <th>DK</th>\n      <th>DQ</th>\n      <th>DJ</th>\n      <th>D10</th>\n      <th>D9</th>\n      <th>D8</th>\n      <th>D7</th>\n      <th>D6</th>\n      <th>HA</th>\n      <th>...</th>\n      <th>CA</th>\n      <th>CK</th>\n      <th>CQ</th>\n      <th>CJ</th>\n      <th>C10</th>\n      <th>C9</th>\n      <th>C8</th>\n      <th>C7</th>\n      <th>C6</th>\n      <th>FH</th>\n    </tr>\n  </thead>\n  <tbody>\n    <tr>\n      <th>1</th>\n      <td>False</td>\n      <td>False</td>\n      <td>False</td>\n      <td>False</td>\n      <td>False</td>\n      <td>False</td>\n      <td>False</td>\n      <td>False</td>\n      <td>True</td>\n      <td>True</td>\n      <td>...</td>\n      <td>False</td>\n      <td>False</td>\n      <td>False</td>\n      <td>True</td>\n      <td>False</td>\n      <td>False</td>\n      <td>False</td>\n      <td>True</td>\n      <td>False</td>\n      <td>False</td>\n    </tr>\n    <tr>\n      <th>2</th>\n      <td>True</td>\n      <td>False</td>\n      <td>False</td>\n      <td>True</td>\n      <td>False</td>\n      <td>False</td>\n      <td>False</td>\n      <td>False</td>\n      <td>False</td>\n      <td>False</td>\n      <td>...</td>\n      <td>False</td>\n      <td>False</td>\n      <td>True</td>\n      <td>False</td>\n      <td>False</td>\n      <td>False</td>\n      <td>False</td>\n      <td>True</td>\n      <td>True</td>\n      <td>False</td>\n    </tr>\n    <tr>\n      <th>3</th>\n      <td>False</td>\n      <td>False</td>\n      <td>False</td>\n      <td>False</td>\n      <td>False</td>\n      <td>False</td>\n      <td>False</td>\n      <td>False</td>\n      <td>False</td>\n      <td>True</td>\n      <td>...</td>\n      <td>True</td>\n      <td>False</td>\n      <td>False</td>\n      <td>False</td>\n      <td>True</td>\n      <td>True</td>\n      <td>False</td>\n      <td>False</td>\n      <td>False</td>\n      <td>False</td>\n    </tr>\n    <tr>\n      <th>4</th>\n      <td>False</td>\n      <td>True</td>\n      <td>False</td>\n      <td>False</td>\n      <td>False</td>\n      <td>False</td>\n      <td>False</td>\n      <td>False</td>\n      <td>True</td>\n      <td>True</td>\n      <td>...</td>\n      <td>False</td>\n      <td>False</td>\n      <td>False</td>\n      <td>True</td>\n      <td>False</td>\n      <td>False</td>\n      <td>False</td>\n      <td>False</td>\n      <td>False</td>\n      <td>True</td>\n    </tr>\n    <tr>\n      <th>5</th>\n      <td>False</td>\n      <td>False</td>\n      <td>True</td>\n      <td>False</td>\n      <td>False</td>\n      <td>False</td>\n      <td>True</td>\n      <td>False</td>\n      <td>True</td>\n      <td>False</td>\n      <td>...</td>\n      <td>True</td>\n      <td>False</td>\n      <td>False</td>\n      <td>False</td>\n      <td>False</td>\n      <td>False</td>\n      <td>False</td>\n      <td>False</td>\n      <td>False</td>\n      <td>True</td>\n    </tr>\n  </tbody>\n</table>\n<p>5 rows × 37 columns</p>\n</div>"
     },
     "execution_count": 18,
     "metadata": {},
     "output_type": "execute_result"
    }
   ],
   "source": [
    "data.head()"
   ]
  },
  {
   "cell_type": "code",
   "execution_count": 19,
   "metadata": {},
   "outputs": [],
   "source": [
    "from tensorflow.keras import regularizers\n",
    "model = keras.Sequential()\n",
    "model.add(keras.layers.Dense(37, activation='relu', input_shape=[37]))\n",
    "model.add(keras.layers.Dense(100, activation=\"relu\"\n",
    ",kernel_regularizer=regularizers.l2(0.001)))\n",
    "model.add(tf.keras.layers.Dropout(0.3)),\n",
    "model.add(keras.layers.Dense(100, activation=\"relu\"\n",
    ",kernel_regularizer=regularizers.l2(0.001)))\n",
    "model.add(tf.keras.layers.Dropout(0.3)),\n",
    "model.add(keras.layers.Dense(100, activation=\"relu\"\n",
    ",kernel_regularizer=regularizers.l2(0.001)))\n",
    "model.add(tf.keras.layers.Dropout(0.3)),\n",
    "model.add(keras.layers.Dense(100, activation=\"relu\"\n",
    ",kernel_regularizer=regularizers.l2(0.001)))\n",
    "model.add(tf.keras.layers.Dropout(0.3)),\n",
    "model.add(keras.layers.Dense(7, activation='softmax'))\n",
    "\n",
    "\n",
    "lr_schedule = tf.keras.optimizers.schedules.InverseTimeDecay(\n",
    "  0.001,\n",
    "  decay_steps=len(data)*1000,\n",
    "  decay_rate=1,\n",
    "  staircase=False)\n",
    "\n",
    "\n",
    "\n",
    "model.compile(loss='categorical_crossentropy',\n",
    "              optimizer=tf.keras.optimizers.Adam(learning_rate = lr_schedule),\n",
    "              metrics=['accuracy'])"
   ]
  },
  {
   "cell_type": "code",
   "execution_count": 20,
   "metadata": {},
   "outputs": [
    {
     "name": "stdout",
     "output_type": "stream",
     "text": [
      "(265369, 37)\n",
      "Epoch 1/80\n",
      "40/40 [==============================] - 2s 25ms/step - loss: 2.0792 - accuracy: 0.3702 - val_loss: 1.9110 - val_accuracy: 0.3868\n",
      "Epoch 2/80\n",
      "40/40 [==============================] - 1s 13ms/step - loss: 1.7679 - accuracy: 0.4284 - val_loss: 1.4546 - val_accuracy: 0.5352\n",
      "Epoch 3/80\n",
      "40/40 [==============================] - 0s 12ms/step - loss: 1.4395 - accuracy: 0.5339 - val_loss: 1.1713 - val_accuracy: 0.6031\n",
      "Epoch 4/80\n",
      "40/40 [==============================] - 1s 13ms/step - loss: 1.2493 - accuracy: 0.5791 - val_loss: 1.0674 - val_accuracy: 0.6227\n",
      "Epoch 5/80\n",
      "40/40 [==============================] - 1s 14ms/step - loss: 1.1614 - accuracy: 0.5959 - val_loss: 1.0244 - val_accuracy: 0.6311\n",
      "Epoch 6/80\n",
      "40/40 [==============================] - 1s 14ms/step - loss: 1.1168 - accuracy: 0.6017 - val_loss: 0.9932 - val_accuracy: 0.6350\n",
      "Epoch 7/80\n",
      "40/40 [==============================] - 1s 18ms/step - loss: 1.0809 - accuracy: 0.6091 - val_loss: 0.9720 - val_accuracy: 0.6390\n",
      "Epoch 8/80\n",
      "40/40 [==============================] - 1s 15ms/step - loss: 1.0566 - accuracy: 0.6116 - val_loss: 0.9550 - val_accuracy: 0.6401\n",
      "Epoch 9/80\n",
      "40/40 [==============================] - 1s 14ms/step - loss: 1.0366 - accuracy: 0.6149 - val_loss: 0.9407 - val_accuracy: 0.6419\n",
      "Epoch 10/80\n",
      "40/40 [==============================] - 1s 14ms/step - loss: 1.0214 - accuracy: 0.6172 - val_loss: 0.9309 - val_accuracy: 0.6428\n",
      "Epoch 11/80\n",
      "40/40 [==============================] - 1s 15ms/step - loss: 1.0081 - accuracy: 0.6189 - val_loss: 0.9220 - val_accuracy: 0.6436\n",
      "Epoch 12/80\n",
      "40/40 [==============================] - 1s 14ms/step - loss: 0.9981 - accuracy: 0.6210 - val_loss: 0.9147 - val_accuracy: 0.6450\n",
      "Epoch 13/80\n",
      "40/40 [==============================] - 1s 14ms/step - loss: 0.9872 - accuracy: 0.6234 - val_loss: 0.9076 - val_accuracy: 0.6465\n",
      "Epoch 14/80\n",
      "40/40 [==============================] - 1s 14ms/step - loss: 0.9792 - accuracy: 0.6245 - val_loss: 0.9039 - val_accuracy: 0.6452\n",
      "Epoch 15/80\n",
      "40/40 [==============================] - 1s 14ms/step - loss: 0.9739 - accuracy: 0.6265 - val_loss: 0.8988 - val_accuracy: 0.6456\n",
      "Epoch 16/80\n",
      "40/40 [==============================] - 1s 16ms/step - loss: 0.9678 - accuracy: 0.6267 - val_loss: 0.8965 - val_accuracy: 0.6452\n",
      "Epoch 17/80\n",
      "40/40 [==============================] - 1s 15ms/step - loss: 0.9626 - accuracy: 0.6273 - val_loss: 0.8914 - val_accuracy: 0.6485\n",
      "Epoch 18/80\n",
      "40/40 [==============================] - 1s 15ms/step - loss: 0.9575 - accuracy: 0.6287 - val_loss: 0.8901 - val_accuracy: 0.6456\n",
      "Epoch 19/80\n",
      "40/40 [==============================] - 1s 14ms/step - loss: 0.9544 - accuracy: 0.6284 - val_loss: 0.8849 - val_accuracy: 0.6480\n",
      "Epoch 20/80\n",
      "40/40 [==============================] - 1s 15ms/step - loss: 0.9505 - accuracy: 0.6298 - val_loss: 0.8832 - val_accuracy: 0.6485\n",
      "Epoch 21/80\n",
      "40/40 [==============================] - 1s 15ms/step - loss: 0.9495 - accuracy: 0.6303 - val_loss: 0.8805 - val_accuracy: 0.6493\n",
      "Epoch 22/80\n",
      "40/40 [==============================] - 1s 15ms/step - loss: 0.9433 - accuracy: 0.6318 - val_loss: 0.8800 - val_accuracy: 0.6503\n",
      "Epoch 23/80\n",
      "40/40 [==============================] - 1s 15ms/step - loss: 0.9415 - accuracy: 0.6320 - val_loss: 0.8767 - val_accuracy: 0.6503\n",
      "Epoch 24/80\n",
      "40/40 [==============================] - 1s 17ms/step - loss: 0.9376 - accuracy: 0.6340 - val_loss: 0.8745 - val_accuracy: 0.6501\n",
      "Epoch 25/80\n",
      "40/40 [==============================] - 1s 16ms/step - loss: 0.9357 - accuracy: 0.6323 - val_loss: 0.8728 - val_accuracy: 0.6524\n",
      "Epoch 26/80\n",
      "40/40 [==============================] - 1s 14ms/step - loss: 0.9320 - accuracy: 0.6340 - val_loss: 0.8703 - val_accuracy: 0.6519\n",
      "Epoch 27/80\n",
      "40/40 [==============================] - 1s 14ms/step - loss: 0.9312 - accuracy: 0.6351 - val_loss: 0.8695 - val_accuracy: 0.6525\n",
      "Epoch 28/80\n",
      "40/40 [==============================] - 1s 15ms/step - loss: 0.9285 - accuracy: 0.6356 - val_loss: 0.8693 - val_accuracy: 0.6511\n",
      "Epoch 29/80\n",
      "40/40 [==============================] - 1s 14ms/step - loss: 0.9270 - accuracy: 0.6373 - val_loss: 0.8680 - val_accuracy: 0.6516\n",
      "Epoch 30/80\n",
      "40/40 [==============================] - 1s 14ms/step - loss: 0.9249 - accuracy: 0.6367 - val_loss: 0.8635 - val_accuracy: 0.6530\n",
      "Epoch 31/80\n",
      "40/40 [==============================] - 1s 15ms/step - loss: 0.9226 - accuracy: 0.6376 - val_loss: 0.8638 - val_accuracy: 0.6536\n",
      "Epoch 32/80\n",
      "40/40 [==============================] - 1s 16ms/step - loss: 0.9199 - accuracy: 0.6383 - val_loss: 0.8625 - val_accuracy: 0.6533\n",
      "Epoch 33/80\n",
      "40/40 [==============================] - 1s 14ms/step - loss: 0.9180 - accuracy: 0.6398 - val_loss: 0.8632 - val_accuracy: 0.6515\n",
      "Epoch 34/80\n",
      "40/40 [==============================] - 1s 14ms/step - loss: 0.9182 - accuracy: 0.6394 - val_loss: 0.8590 - val_accuracy: 0.6546\n",
      "Epoch 35/80\n",
      "40/40 [==============================] - 1s 15ms/step - loss: 0.9164 - accuracy: 0.6403 - val_loss: 0.8566 - val_accuracy: 0.6563\n",
      "Epoch 36/80\n",
      "40/40 [==============================] - 1s 15ms/step - loss: 0.9121 - accuracy: 0.6412 - val_loss: 0.8559 - val_accuracy: 0.6560\n",
      "Epoch 37/80\n",
      "40/40 [==============================] - 1s 14ms/step - loss: 0.9104 - accuracy: 0.6419 - val_loss: 0.8544 - val_accuracy: 0.6551\n",
      "Epoch 38/80\n",
      "40/40 [==============================] - 1s 15ms/step - loss: 0.9107 - accuracy: 0.6405 - val_loss: 0.8550 - val_accuracy: 0.6574\n",
      "Epoch 39/80\n",
      "40/40 [==============================] - 1s 16ms/step - loss: 0.9074 - accuracy: 0.6420 - val_loss: 0.8531 - val_accuracy: 0.6580\n",
      "Epoch 40/80\n",
      "40/40 [==============================] - 1s 15ms/step - loss: 0.9065 - accuracy: 0.6422 - val_loss: 0.8538 - val_accuracy: 0.6551\n",
      "Epoch 41/80\n",
      "40/40 [==============================] - 1s 15ms/step - loss: 0.9065 - accuracy: 0.6423 - val_loss: 0.8522 - val_accuracy: 0.6564\n",
      "Epoch 42/80\n",
      "40/40 [==============================] - 1s 14ms/step - loss: 0.9058 - accuracy: 0.6431 - val_loss: 0.8522 - val_accuracy: 0.6580\n",
      "Epoch 43/80\n",
      "40/40 [==============================] - 1s 14ms/step - loss: 0.9026 - accuracy: 0.6437 - val_loss: 0.8483 - val_accuracy: 0.6586\n",
      "Epoch 44/80\n",
      "40/40 [==============================] - 1s 14ms/step - loss: 0.9035 - accuracy: 0.6439 - val_loss: 0.8475 - val_accuracy: 0.6579\n",
      "Epoch 45/80\n",
      "40/40 [==============================] - 1s 15ms/step - loss: 0.9016 - accuracy: 0.6447 - val_loss: 0.8474 - val_accuracy: 0.6596\n",
      "Epoch 46/80\n",
      "40/40 [==============================] - 1s 16ms/step - loss: 0.9009 - accuracy: 0.6448 - val_loss: 0.8452 - val_accuracy: 0.6589\n",
      "Epoch 47/80\n",
      "40/40 [==============================] - 1s 14ms/step - loss: 0.8989 - accuracy: 0.6458 - val_loss: 0.8443 - val_accuracy: 0.6591\n",
      "Epoch 48/80\n",
      "40/40 [==============================] - 1s 15ms/step - loss: 0.8981 - accuracy: 0.6464 - val_loss: 0.8445 - val_accuracy: 0.6587\n",
      "Epoch 49/80\n",
      "40/40 [==============================] - 1s 15ms/step - loss: 0.8968 - accuracy: 0.6462 - val_loss: 0.8453 - val_accuracy: 0.6585\n",
      "Epoch 50/80\n",
      "40/40 [==============================] - 1s 14ms/step - loss: 0.8964 - accuracy: 0.6464 - val_loss: 0.8448 - val_accuracy: 0.6595\n"
     ]
    }
   ],
   "source": [
    "print(data.shape)\n",
    "early_stop = EarlyStopping(monitor='val_loss', patience=3)\n",
    "history = model.fit(data.values, y_train, validation_split=0.25, epochs=80, batch_size=5000,\n",
    "              callbacks =[early_stop])"
   ]
  },
  {
   "cell_type": "code",
   "execution_count": 21,
   "metadata": {},
   "outputs": [
    {
     "data": {
      "text/plain": "<matplotlib.legend.Legend at 0x23f5c627220>"
     },
     "execution_count": 21,
     "metadata": {},
     "output_type": "execute_result"
    },
    {
     "data": {
      "text/plain": "<Figure size 432x288 with 1 Axes>",
      "image/png": "[encoded data removed]"
     },
     "metadata": {
      "needs_background": "light"
     },
     "output_type": "display_data"
    }
   ],
   "source": [
    "plt.plot(history.history['accuracy'])\n",
    "plt.plot(history.history['val_loss'])\n",
    "plt.title('Accuracy')\n",
    "plt.xlabel('epoch')\n",
    "plt.ylabel('acc')\n",
    "plt.legend(['Train', 'Val'], loc='upper left')\n",
    "\n",
    "\n"
   ]
  },
  {
   "cell_type": "code",
   "execution_count": 22,
   "metadata": {},
   "outputs": [
    {
     "name": "stdout",
     "output_type": "stream",
     "text": [
      "INFO:tensorflow:Assets written to: models/v3\\assets\n"
     ]
    },
    {
     "name": "stderr",
     "output_type": "stream",
     "text": [
      "INFO:tensorflow:Assets written to: models/v3\\assets\n"
     ]
    }
   ],
   "source": [
    "model.save('models/v3')\n"
   ]
  },
  {
   "cell_type": "code",
   "execution_count": 22,
   "outputs": [],
   "source": [],
   "metadata": {
    "collapsed": false,
    "pycharm": {
     "name": "#%%\n"
    }
   }
  }
 ],
 "metadata": {
  "kernelspec": {
   "display_name": "Python 3 (ipykernel)",
   "language": "python",
   "name": "python3"
  },
  "language_info": {
   "codemirror_mode": {
    "name": "ipython",
    "version": 3
   },
   "file_extension": ".py",
   "mimetype": "text/x-python",
   "name": "python",
   "nbconvert_exporter": "python",
   "pygments_lexer": "ipython3",
   "version": "3.9.7"
  }
 },
 "nbformat": 4,
 "nbformat_minor": 2
}