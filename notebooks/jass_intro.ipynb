{
 "cells": [
  {
   "cell_type": "markdown",
   "id": "4e81b25c",
   "metadata": {},
   "source": [
    "# DL4G - Jass Introduction\n",
    "\n",
    "In this exercise we will look at some properties of the jass kit environment that can be used to develop your own jass agent.\n",
    "\n",
    "You will need to have numpy installed, as well as the jass-kit environment."
   ]
  },
  {
   "cell_type": "code",
   "execution_count": 2,
   "id": "0d71e284",
   "metadata": {},
   "outputs": [],
   "source": [
    "from jass.game.game_util import *\n",
    "from jass.game.game_sim import GameSim\n",
    "from jass.game.game_observation import GameObservation\n",
    "from jass.game.const import *\n",
    "from jass.game.rule_schieber import RuleSchieber\n",
    "from jass.agents.agent import Agent\n",
    "from jass.agents.agent_random_schieber import AgentRandomSchieber\n",
    "from jass.arena.arena import Arena\n"
   ]
  },
  {
   "cell_type": "markdown",
   "id": "9d510b9e",
   "metadata": {},
   "source": [
    "Information about the cards is stored as one-hot encoded arrays, there are several tools available to access the information in the cards. \n",
    "\n",
    "Lets deal some random cards first."
   ]
  },
  {
   "cell_type": "code",
   "execution_count": 3,
   "id": "19767850",
   "metadata": {},
   "outputs": [
    {
     "name": "stdout",
     "output_type": "stream",
     "text": [
      "(4, 36)\n"
     ]
    }
   ],
   "source": [
    "# Lets set the seed of the random number generater, so that we get the same results\n",
    "np.random.seed(1)\n",
    "\n",
    "# This distributes the cards randomly among the 4 players.\n",
    "hands = deal_random_hand()\n",
    "print(hands.shape)"
   ]
  },
  {
   "cell_type": "code",
   "execution_count": 4,
   "id": "dcd87887",
   "metadata": {},
   "outputs": [
    {
     "name": "stdout",
     "output_type": "stream",
     "text": [
      "[0 0 0 1 0 0 0 0 0 0 0 0 0 0 0 0 0 1 0 1 0 1 0 1 0 0 0 0 1 1 1 0 0 0 1 0]\n",
      "\n"
     ]
    }
   ],
   "source": [
    "# There is an entry for each player, to access the cards of the first player\n",
    "cards = hands[0, :]\n",
    "print(cards)\n",
    "print(\"\")"
   ]
  },
  {
   "cell_type": "code",
   "execution_count": 5,
   "id": "486c3664",
   "metadata": {},
   "outputs": [
    {
     "name": "stdout",
     "output_type": "stream",
     "text": [
      "['DJ', 'H6', 'SK', 'SJ', 'S9', 'CK', 'CQ', 'CJ', 'C7']\n",
      "[3, 17, 19, 21, 23, 28, 29, 30, 34]\n"
     ]
    }
   ],
   "source": [
    "# This should be 9 cards\n",
    "assert (cards.sum() == 9)\n",
    "\n",
    "# The cards can be converted to other formats for easier reading or processing\n",
    "print(convert_one_hot_encoded_cards_to_str_encoded_list(cards))\n",
    "\n",
    "# Each card is encoded as a value between 0 and 35.\n",
    "print(convert_one_hot_encoded_cards_to_int_encoded_list(cards))\n"
   ]
  },
  {
   "cell_type": "code",
   "execution_count": 6,
   "id": "89294107",
   "metadata": {},
   "outputs": [
    {
     "name": "stdout",
     "output_type": "stream",
     "text": [
      "[1 1 3 4]\n"
     ]
    }
   ],
   "source": [
    "# There is a method to count colors too\n",
    "colors = count_colors(cards)\n",
    "print(colors)"
   ]
  },
  {
   "cell_type": "markdown",
   "id": "04f591d7",
   "metadata": {},
   "source": [
    "There is a common jass \"rule\" to select trump, when you have the \"Puur\" (Jack of trump) and 3 or more other cards of the same color. \n",
    "\n",
    "Task 1: Write a function that returns an array of 4 values that contains a 1 for each color that fulfills the rule or 0 otherwise, i.e. [0 0 0 0] is returned, if you do not have any color with Jack and 3 other cards.\n"
   ]
  },
  {
   "cell_type": "code",
   "execution_count": 7,
   "id": "92845f51",
   "metadata": {},
   "outputs": [
    {
     "name": "stdout",
     "output_type": "stream",
     "text": [
      "[0 0 0 1 0 0 0 0 0 0 0 0 0 0 0 0 0 1 0 1 0 1 0 1 0 0 0 0 1 1 1 0 0 0 1 0]\n"
     ]
    },
    {
     "data": {
      "text/plain": "array([0, 0, 0, 1])"
     },
     "execution_count": 7,
     "metadata": {},
     "output_type": "execute_result"
    }
   ],
   "source": [
    "def havePuurWithFour(hand: np.ndarray) -> np.ndarray:\n",
    "    result = np.zeros(4, dtype=int)\n",
    "    print(hand)\n",
    "    # add your code here\n",
    "    colors = count_colors(hand)\n",
    "\n",
    "    if hand[DJ] == 1 and colors[0] >= 4: result[0] = 1\n",
    "    if hand[HJ] == 1 and colors[1] >= 4: result[1] = 1\n",
    "    if hand[SJ] == 1 and colors[2] >= 4: result[2] = 1\n",
    "    if hand[CJ] == 1 and colors[3] >= 4: result[3] = 1\n",
    "\n",
    "    return result\n",
    "\n",
    "\n",
    "havePuurWithFour(cards)"
   ]
  },
  {
   "cell_type": "code",
   "execution_count": 8,
   "id": "b1bb875a",
   "metadata": {},
   "outputs": [
    {
     "name": "stdout",
     "output_type": "stream",
     "text": [
      "[0 0 0 1 0 0 0 0 0 0 0 0 0 0 0 0 0 1 0 1 0 1 0 1 0 0 0 0 1 1 1 0 0 0 1 0]\n",
      "[0 0 1 0 1 0 0 0 0 0 1 0 0 0 1 0 0 0 0 0 0 0 0 0 1 1 1 1 0 0 0 0 0 1 0 0]\n"
     ]
    }
   ],
   "source": [
    "assert (havePuurWithFour(cards) == [0, 0, 0, 1]).all()\n",
    "cards_2 = hands[1, :]\n",
    "assert (havePuurWithFour(cards_2) == [0, 0, 0, 0]).all()"
   ]
  },
  {
   "cell_type": "markdown",
   "id": "48371ec4",
   "metadata": {},
   "source": [
    "Another possibility to select trump is by assigning a value to each card, depending on whether the color is trump or not. This table is from the Maturawork of Daniel Graf from 2009: \"Jassen auf Basis der Spieltheorie\"."
   ]
  },
  {
   "cell_type": "code",
   "execution_count": 9,
   "id": "01b078f3",
   "metadata": {},
   "outputs": [],
   "source": [
    "# Score for each card of a color from Ace to 6\n",
    "\n",
    "# score if the color is trump\n",
    "trump_score = [15, 10, 7, 25, 6, 19, 5, 5, 5]\n",
    "# score if the color is not trump\n",
    "no_trump_score = [9, 7, 5, 2, 1, 0, 0, 0, 0]\n",
    "# score if obenabe is selected (all colors)\n",
    "obenabe_score = [14, 10, 8, 7, 5, 0, 5, 0, 0, ]\n",
    "# score if uneufe is selected (all colors)\n",
    "uneufe_score = [0, 2, 1, 1, 5, 5, 7, 9, 11]"
   ]
  },
  {
   "cell_type": "markdown",
   "id": "ddd00b63",
   "metadata": {},
   "source": [
    "Task 2: Implement a function that evaluates a hand that is given as a list of 9 cards and with a given trump value and returns a score depending on the table above. For example the score of our hand ['DJ', 'H6', 'SK', 'SJ', 'S9', 'CK', 'CQ', 'CJ', 'C7'] when Club is trump should be:\n",
    "\n",
    "2 + 0 + 7 + 2 + 0 + 10 + 7 + 25 + 5 = 58\n",
    "\n",
    "while the score is 70 if Spade is selected, which is better as you have both the jack and the nine.\n",
    "\n",
    "You can use the arrays offset_of_card and color_of_card to get the offset (Ace, King, etc.) and color of a card."
   ]
  },
  {
   "cell_type": "code",
   "execution_count": 10,
   "id": "63297245",
   "metadata": {},
   "outputs": [],
   "source": [
    "def calculate_trump_selection_score(cards, trump: int) -> int:\n",
    "    # add your code here\n",
    "    trump_selection_score = 0\n",
    "    for card in cards:\n",
    "        if color_of_card[card] == trump:\n",
    "            trump_selection_score += trump_score[offset_of_card[card]]\n",
    "        else:\n",
    "            trump_selection_score += no_trump_score[offset_of_card[card]]\n",
    "\n",
    "    return trump_selection_score"
   ]
  },
  {
   "cell_type": "code",
   "execution_count": 11,
   "id": "0ae55a9d",
   "metadata": {},
   "outputs": [],
   "source": [
    "card_list = convert_one_hot_encoded_cards_to_int_encoded_list(cards)\n",
    "assert calculate_trump_selection_score(card_list, CLUBS) == 58\n",
    "assert calculate_trump_selection_score(card_list, SPADES) == 70"
   ]
  },
  {
   "cell_type": "markdown",
   "id": "4ec0d316",
   "metadata": {},
   "source": [
    "## Agents\n",
    "\n",
    "In order to play a game you have to program an agent that decides on the action. For that you have to override the methods action_trump and action_play_card.\n",
    "\n",
    "Task 3: Use the function implemented above to select the best trump value. If the calculated trump value is below a threshold (for example let us take 68, as suggested in the work by Daniel Graf) you should \"Schiebe\", i.e. pass to your partner if you are still allowed to do that.\n",
    "\n",
    "The game observation allows you to access the information about your card, and if you are the first or second player to select trump.\n",
    "\n",
    "For playing a card, we just take a random action."
   ]
  },
  {
   "cell_type": "code",
   "execution_count": 12,
   "id": "2c8a0c7e",
   "metadata": {},
   "outputs": [],
   "source": [
    "class MyAgent(Agent):\n",
    "    def __init__(self):\n",
    "        super().__init__()\n",
    "        # we need a rule object to determine the valid cards\n",
    "        self._rule = RuleSchieber()\n",
    "\n",
    "    def action_trump(self, obs: GameObservation) -> int:\n",
    "        \"\"\"\n",
    "        Determine trump action for the given observation\n",
    "        Args:\n",
    "            obs: the game observation, it must be in a state for trump selection\n",
    "\n",
    "        Returns:\n",
    "            selected trump as encoded in jass.game.const or jass.game.const.PUSH\n",
    "        \"\"\"\n",
    "        # add your code here using the function above\n",
    "        push_threshold = 68\n",
    "        hand_cards = convert_one_hot_encoded_cards_to_int_encoded_list(obs.hand)\n",
    "        color_trump_values = [0,0,0,0]\n",
    "        for color in range(4):\n",
    "            color_trump_values[color] = calculate_trump_selection_score(hand_cards,color)\n",
    "        max_value = max(color_trump_values)\n",
    "        best_color = color_trump_values.index(max_value)\n",
    "        if max_value < push_threshold and obs.player < 1:\n",
    "            return PUSH\n",
    "        else:\n",
    "            return best_color\n",
    "\n",
    "\n",
    "    def action_play_card(self, obs: GameObservation) -> int:\n",
    "        \"\"\"\n",
    "        Determine the card to play.\n",
    "\n",
    "        Args:\n",
    "            obs: the game observation\n",
    "\n",
    "        Returns:\n",
    "            the card to play, int encoded as defined in jass.game.const\n",
    "        \"\"\"\n",
    "        valid_cards = self._rule.get_valid_cards_from_obs(obs)\n",
    "        # we use the global random number generator here\n",
    "        return np.random.choice(np.flatnonzero(valid_cards))\n",
    "\n"
   ]
  },
  {
   "cell_type": "markdown",
   "id": "1f5b305a",
   "metadata": {},
   "source": [
    "We can use the game simulation to play a game. We will use that to test our implementation, and then use the arena class to play against other agents"
   ]
  },
  {
   "cell_type": "code",
   "execution_count": 13,
   "id": "91df4f83",
   "metadata": {},
   "outputs": [],
   "source": [
    "rule = RuleSchieber()\n",
    "game = GameSim(rule=rule)\n",
    "agent = MyAgent()\n",
    "\n",
    "np.random.seed(1)\n",
    "game.init_from_cards(hands=deal_random_hand(), dealer=NORTH)"
   ]
  },
  {
   "cell_type": "code",
   "execution_count": 14,
   "id": "1f177a07",
   "metadata": {},
   "outputs": [],
   "source": [
    "obs = game.get_observation()"
   ]
  },
  {
   "cell_type": "code",
   "execution_count": 15,
   "id": "768c5cce",
   "metadata": {},
   "outputs": [
    {
     "name": "stdout",
     "output_type": "stream",
     "text": [
      "['DA', 'DK', 'D9', 'D6', 'HA', 'HQ', 'HJ', 'H8', 'H7']\n",
      "1\n"
     ]
    }
   ],
   "source": [
    "cards = convert_one_hot_encoded_cards_to_str_encoded_list(obs.hand)\n",
    "print(cards)\n",
    "print(agent.action_trump(obs))\n",
    "trump = agent.action_trump(obs)\n",
    "assert trump == HEARTS"
   ]
  },
  {
   "cell_type": "code",
   "execution_count": 16,
   "id": "9ccc8b9e",
   "metadata": {},
   "outputs": [],
   "source": [
    "# tell the simulation the selected trump\n",
    "game.action_trump(trump)"
   ]
  },
  {
   "cell_type": "code",
   "execution_count": 17,
   "id": "eb8c2956",
   "metadata": {},
   "outputs": [
    {
     "name": "stdout",
     "output_type": "stream",
     "text": [
      "[ 10 147]\n"
     ]
    }
   ],
   "source": [
    "# play the game to the end and print the result\n",
    "while not game.is_done():\n",
    "    game.action_play_card(agent.action_play_card(game.get_observation()))\n",
    "\n",
    "print(game.state.points)"
   ]
  },
  {
   "cell_type": "markdown",
   "id": "b33d069e",
   "metadata": {},
   "source": [
    "Another possibility to test agents locally is to use the arena. Let us play 100 games against the Random Agent and see if our trump methods makes any difference.\n"
   ]
  },
  {
   "cell_type": "code",
   "execution_count": 18,
   "id": "07c99989",
   "metadata": {},
   "outputs": [],
   "source": [
    "arena = Arena(nr_games_to_play=100)\n",
    "arena.set_players(MyAgent(), AgentRandomSchieber(), MyAgent(), AgentRandomSchieber())"
   ]
  },
  {
   "cell_type": "code",
   "execution_count": 19,
   "id": "ba8464b5",
   "metadata": {},
   "outputs": [
    {
     "name": "stdout",
     "output_type": "stream",
     "text": [
      "[........................................]  100/ 100 games played\n"
     ]
    }
   ],
   "source": [
    "arena.play_all_games()"
   ]
  },
  {
   "cell_type": "code",
   "execution_count": 20,
   "id": "05179929",
   "metadata": {},
   "outputs": [
    {
     "name": "stdout",
     "output_type": "stream",
     "text": [
      "8958.0 6742.0\n"
     ]
    }
   ],
   "source": [
    "print(arena.points_team_0.sum(), arena.points_team_1.sum())"
   ]
  },
  {
   "cell_type": "markdown",
   "id": "dd500485",
   "metadata": {},
   "source": [
    "Now you can continue with a rule based implemenation of the card play. Also look at the flask implementation of the service to see how you can get your agent online."
   ]
  }
 ],
 "metadata": {
  "kernelspec": {
   "display_name": "Python 3 (ipykernel)",
   "language": "python",
   "name": "python3"
  },
  "language_info": {
   "codemirror_mode": {
    "name": "ipython",
    "version": 3
   },
   "file_extension": ".py",
   "mimetype": "text/x-python",
   "name": "python",
   "nbconvert_exporter": "python",
   "pygments_lexer": "ipython3",
   "version": "3.9.7"
  }
 },
 "nbformat": 4,
 "nbformat_minor": 5
}